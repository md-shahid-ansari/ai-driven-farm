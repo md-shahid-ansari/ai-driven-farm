{
 "cells": [
  {
   "cell_type": "code",
   "execution_count": 1,
   "id": "9f0bf28e-23fb-4042-8541-23b6e831bd11",
   "metadata": {
    "scrolled": true
   },
   "outputs": [
    {
     "name": "stdout",
     "output_type": "stream",
     "text": [
      "Defaulting to user installation because normal site-packages is not writeable\n",
      "Requirement already satisfied: numpy in /home/ude2208b7931818c8415041dbaf9b93b/.local/lib/python3.11/site-packages (1.26.4)\n",
      "Requirement already satisfied: pandas in /home/ude2208b7931818c8415041dbaf9b93b/.local/lib/python3.11/site-packages (2.2.3)\n",
      "Requirement already satisfied: scikit-learn in /home/ude2208b7931818c8415041dbaf9b93b/.local/lib/python3.11/site-packages (1.5.2)\n",
      "Requirement already satisfied: tensorflow in /home/ude2208b7931818c8415041dbaf9b93b/.local/lib/python3.11/site-packages (2.17.0)\n",
      "Requirement already satisfied: matplotlib in /home/ude2208b7931818c8415041dbaf9b93b/.local/lib/python3.11/site-packages (3.9.2)\n",
      "Requirement already satisfied: python-dateutil>=2.8.2 in /srv/jupyter/python-venv/lib/python3.11/site-packages (from pandas) (2.8.2)\n",
      "Requirement already satisfied: pytz>=2020.1 in /home/ude2208b7931818c8415041dbaf9b93b/.local/lib/python3.11/site-packages (from pandas) (2024.2)\n",
      "Requirement already satisfied: tzdata>=2022.7 in /home/ude2208b7931818c8415041dbaf9b93b/.local/lib/python3.11/site-packages (from pandas) (2024.1)\n",
      "Requirement already satisfied: scipy>=1.6.0 in /home/ude2208b7931818c8415041dbaf9b93b/.local/lib/python3.11/site-packages (from scikit-learn) (1.14.1)\n",
      "Requirement already satisfied: joblib>=1.2.0 in /home/ude2208b7931818c8415041dbaf9b93b/.local/lib/python3.11/site-packages (from scikit-learn) (1.4.2)\n",
      "Requirement already satisfied: threadpoolctl>=3.1.0 in /home/ude2208b7931818c8415041dbaf9b93b/.local/lib/python3.11/site-packages (from scikit-learn) (3.5.0)\n",
      "Requirement already satisfied: absl-py>=1.0.0 in /home/ude2208b7931818c8415041dbaf9b93b/.local/lib/python3.11/site-packages (from tensorflow) (2.1.0)\n",
      "Requirement already satisfied: astunparse>=1.6.0 in /home/ude2208b7931818c8415041dbaf9b93b/.local/lib/python3.11/site-packages (from tensorflow) (1.6.3)\n",
      "Requirement already satisfied: flatbuffers>=24.3.25 in /home/ude2208b7931818c8415041dbaf9b93b/.local/lib/python3.11/site-packages (from tensorflow) (24.3.25)\n",
      "Requirement already satisfied: gast!=0.5.0,!=0.5.1,!=0.5.2,>=0.2.1 in /home/ude2208b7931818c8415041dbaf9b93b/.local/lib/python3.11/site-packages (from tensorflow) (0.6.0)\n",
      "Requirement already satisfied: google-pasta>=0.1.1 in /home/ude2208b7931818c8415041dbaf9b93b/.local/lib/python3.11/site-packages (from tensorflow) (0.2.0)\n",
      "Requirement already satisfied: h5py>=3.10.0 in /home/ude2208b7931818c8415041dbaf9b93b/.local/lib/python3.11/site-packages (from tensorflow) (3.11.0)\n",
      "Requirement already satisfied: libclang>=13.0.0 in /home/ude2208b7931818c8415041dbaf9b93b/.local/lib/python3.11/site-packages (from tensorflow) (18.1.1)\n",
      "Requirement already satisfied: ml-dtypes<0.5.0,>=0.3.1 in /home/ude2208b7931818c8415041dbaf9b93b/.local/lib/python3.11/site-packages (from tensorflow) (0.4.1)\n",
      "Requirement already satisfied: opt-einsum>=2.3.2 in /home/ude2208b7931818c8415041dbaf9b93b/.local/lib/python3.11/site-packages (from tensorflow) (3.3.0)\n",
      "Requirement already satisfied: packaging in /srv/jupyter/python-venv/lib/python3.11/site-packages (from tensorflow) (23.1)\n",
      "Requirement already satisfied: protobuf!=4.21.0,!=4.21.1,!=4.21.2,!=4.21.3,!=4.21.4,!=4.21.5,<5.0.0dev,>=3.20.3 in /home/ude2208b7931818c8415041dbaf9b93b/.local/lib/python3.11/site-packages (from tensorflow) (4.25.5)\n",
      "Requirement already satisfied: requests<3,>=2.21.0 in /srv/jupyter/python-venv/lib/python3.11/site-packages (from tensorflow) (2.31.0)\n",
      "Requirement already satisfied: setuptools in /srv/jupyter/python-venv/lib/python3.11/site-packages (from tensorflow) (65.5.0)\n",
      "Requirement already satisfied: six>=1.12.0 in /srv/jupyter/python-venv/lib/python3.11/site-packages (from tensorflow) (1.16.0)\n",
      "Requirement already satisfied: termcolor>=1.1.0 in /home/ude2208b7931818c8415041dbaf9b93b/.local/lib/python3.11/site-packages (from tensorflow) (2.4.0)\n",
      "Requirement already satisfied: typing-extensions>=3.6.6 in /srv/jupyter/python-venv/lib/python3.11/site-packages (from tensorflow) (4.8.0)\n",
      "Requirement already satisfied: wrapt>=1.11.0 in /home/ude2208b7931818c8415041dbaf9b93b/.local/lib/python3.11/site-packages (from tensorflow) (1.16.0)\n",
      "Requirement already satisfied: grpcio<2.0,>=1.24.3 in /home/ude2208b7931818c8415041dbaf9b93b/.local/lib/python3.11/site-packages (from tensorflow) (1.66.1)\n",
      "Requirement already satisfied: tensorboard<2.18,>=2.17 in /home/ude2208b7931818c8415041dbaf9b93b/.local/lib/python3.11/site-packages (from tensorflow) (2.17.1)\n",
      "Requirement already satisfied: keras>=3.2.0 in /home/ude2208b7931818c8415041dbaf9b93b/.local/lib/python3.11/site-packages (from tensorflow) (3.5.0)\n",
      "Requirement already satisfied: tensorflow-io-gcs-filesystem>=0.23.1 in /home/ude2208b7931818c8415041dbaf9b93b/.local/lib/python3.11/site-packages (from tensorflow) (0.37.1)\n",
      "Requirement already satisfied: contourpy>=1.0.1 in /home/ude2208b7931818c8415041dbaf9b93b/.local/lib/python3.11/site-packages (from matplotlib) (1.3.0)\n",
      "Requirement already satisfied: cycler>=0.10 in /home/ude2208b7931818c8415041dbaf9b93b/.local/lib/python3.11/site-packages (from matplotlib) (0.12.1)\n",
      "Requirement already satisfied: fonttools>=4.22.0 in /home/ude2208b7931818c8415041dbaf9b93b/.local/lib/python3.11/site-packages (from matplotlib) (4.53.1)\n",
      "Requirement already satisfied: kiwisolver>=1.3.1 in /home/ude2208b7931818c8415041dbaf9b93b/.local/lib/python3.11/site-packages (from matplotlib) (1.4.7)\n",
      "Requirement already satisfied: pillow>=8 in /home/ude2208b7931818c8415041dbaf9b93b/.local/lib/python3.11/site-packages (from matplotlib) (10.4.0)\n",
      "Requirement already satisfied: pyparsing>=2.3.1 in /home/ude2208b7931818c8415041dbaf9b93b/.local/lib/python3.11/site-packages (from matplotlib) (3.1.4)\n",
      "Requirement already satisfied: wheel<1.0,>=0.23.0 in /home/ude2208b7931818c8415041dbaf9b93b/.local/lib/python3.11/site-packages (from astunparse>=1.6.0->tensorflow) (0.44.0)\n",
      "Requirement already satisfied: rich in /home/ude2208b7931818c8415041dbaf9b93b/.local/lib/python3.11/site-packages (from keras>=3.2.0->tensorflow) (13.8.1)\n",
      "Requirement already satisfied: namex in /home/ude2208b7931818c8415041dbaf9b93b/.local/lib/python3.11/site-packages (from keras>=3.2.0->tensorflow) (0.0.8)\n",
      "Requirement already satisfied: optree in /home/ude2208b7931818c8415041dbaf9b93b/.local/lib/python3.11/site-packages (from keras>=3.2.0->tensorflow) (0.12.1)\n",
      "Requirement already satisfied: charset-normalizer<4,>=2 in /srv/jupyter/python-venv/lib/python3.11/site-packages (from requests<3,>=2.21.0->tensorflow) (3.2.0)\n",
      "Requirement already satisfied: idna<4,>=2.5 in /srv/jupyter/python-venv/lib/python3.11/site-packages (from requests<3,>=2.21.0->tensorflow) (3.4)\n",
      "Requirement already satisfied: urllib3<3,>=1.21.1 in /srv/jupyter/python-venv/lib/python3.11/site-packages (from requests<3,>=2.21.0->tensorflow) (2.0.5)\n",
      "Requirement already satisfied: certifi>=2017.4.17 in /srv/jupyter/python-venv/lib/python3.11/site-packages (from requests<3,>=2.21.0->tensorflow) (2023.7.22)\n",
      "Requirement already satisfied: markdown>=2.6.8 in /home/ude2208b7931818c8415041dbaf9b93b/.local/lib/python3.11/site-packages (from tensorboard<2.18,>=2.17->tensorflow) (3.7)\n",
      "Requirement already satisfied: tensorboard-data-server<0.8.0,>=0.7.0 in /home/ude2208b7931818c8415041dbaf9b93b/.local/lib/python3.11/site-packages (from tensorboard<2.18,>=2.17->tensorflow) (0.7.2)\n",
      "Requirement already satisfied: werkzeug>=1.0.1 in /home/ude2208b7931818c8415041dbaf9b93b/.local/lib/python3.11/site-packages (from tensorboard<2.18,>=2.17->tensorflow) (3.0.4)\n",
      "Requirement already satisfied: MarkupSafe>=2.1.1 in /srv/jupyter/python-venv/lib/python3.11/site-packages (from werkzeug>=1.0.1->tensorboard<2.18,>=2.17->tensorflow) (2.1.3)\n",
      "Requirement already satisfied: markdown-it-py>=2.2.0 in /home/ude2208b7931818c8415041dbaf9b93b/.local/lib/python3.11/site-packages (from rich->keras>=3.2.0->tensorflow) (3.0.0)\n",
      "Requirement already satisfied: pygments<3.0.0,>=2.13.0 in /srv/jupyter/python-venv/lib/python3.11/site-packages (from rich->keras>=3.2.0->tensorflow) (2.16.1)\n",
      "Requirement already satisfied: mdurl~=0.1 in /home/ude2208b7931818c8415041dbaf9b93b/.local/lib/python3.11/site-packages (from markdown-it-py>=2.2.0->rich->keras>=3.2.0->tensorflow) (0.1.2)\n",
      "\n",
      "\u001b[1m[\u001b[0m\u001b[34;49mnotice\u001b[0m\u001b[1;39;49m]\u001b[0m\u001b[39;49m A new release of pip is available: \u001b[0m\u001b[31;49m23.2.1\u001b[0m\u001b[39;49m -> \u001b[0m\u001b[32;49m24.2\u001b[0m\n",
      "\u001b[1m[\u001b[0m\u001b[34;49mnotice\u001b[0m\u001b[1;39;49m]\u001b[0m\u001b[39;49m To update, run: \u001b[0m\u001b[32;49m/srv/jupyter/python-venv/bin/python3 -m pip install --upgrade pip\u001b[0m\n",
      "Note: you may need to restart the kernel to use updated packages.\n"
     ]
    }
   ],
   "source": [
    "pip install numpy pandas scikit-learn tensorflow matplotlib"
   ]
  },
  {
   "cell_type": "code",
   "execution_count": 2,
   "id": "ae893b78-ee8f-4767-b491-1ab7a7c07f70",
   "metadata": {},
   "outputs": [],
   "source": [
    "import pandas as pd\n",
    "import numpy as np\n",
    "from sklearn.preprocessing import MinMaxScaler\n",
    "import matplotlib.pyplot as plt"
   ]
  },
  {
   "cell_type": "code",
   "execution_count": 3,
   "id": "07930513-7f36-4890-9ed2-09c65d859ba6",
   "metadata": {},
   "outputs": [],
   "source": [
    "# Load the weather data\n",
    "data = pd.read_csv('combined_weather_data.csv')\n",
    "\n",
    "# Convert the Year, Month, Day columns into a single datetime column\n",
    "data['date'] = pd.to_datetime(data[['Year', 'Month', 'Day']])\n",
    "data.set_index('date', inplace=True)\n",
    "data.drop(columns=['Year', 'Month', 'Day'], inplace=True)\n",
    "\n",
    "# Select features for prediction\n",
    "features = ['Min Temp', 'Max Temp', 'Humidity', 'Pressure', 'Precipitation']\n",
    "data = data[features]\n",
    "\n",
    "# Scale the data between 0 and 1\n",
    "scaler = MinMaxScaler()\n",
    "scaled_data = scaler.fit_transform(data)\n",
    "scaled_df = pd.DataFrame(scaled_data, columns=features, index=data.index)\n",
    "\n",
    "# Split the data into training and testing sets (80% training, 20% testing)\n",
    "train_size = int(len(scaled_df) * 0.8)\n",
    "train_data = scaled_df[:train_size]\n",
    "test_data = scaled_df[train_size:]\n"
   ]
  },
  {
   "cell_type": "code",
   "execution_count": 4,
   "id": "dfac23f8-49a0-456d-9d88-6e34213a514b",
   "metadata": {
    "scrolled": true
   },
   "outputs": [
    {
     "data": {
      "text/html": [
       "<div>\n",
       "<style scoped>\n",
       "    .dataframe tbody tr th:only-of-type {\n",
       "        vertical-align: middle;\n",
       "    }\n",
       "\n",
       "    .dataframe tbody tr th {\n",
       "        vertical-align: top;\n",
       "    }\n",
       "\n",
       "    .dataframe thead th {\n",
       "        text-align: right;\n",
       "    }\n",
       "</style>\n",
       "<table border=\"1\" class=\"dataframe\">\n",
       "  <thead>\n",
       "    <tr style=\"text-align: right;\">\n",
       "      <th></th>\n",
       "      <th>Min Temp</th>\n",
       "      <th>Max Temp</th>\n",
       "      <th>Humidity</th>\n",
       "      <th>Pressure</th>\n",
       "      <th>Precipitation</th>\n",
       "    </tr>\n",
       "    <tr>\n",
       "      <th>date</th>\n",
       "      <th></th>\n",
       "      <th></th>\n",
       "      <th></th>\n",
       "      <th></th>\n",
       "      <th></th>\n",
       "    </tr>\n",
       "  </thead>\n",
       "  <tbody>\n",
       "    <tr>\n",
       "      <th>2000-01-01</th>\n",
       "      <td>12.0</td>\n",
       "      <td>24.0</td>\n",
       "      <td>67</td>\n",
       "      <td>1013</td>\n",
       "      <td>0.0</td>\n",
       "    </tr>\n",
       "    <tr>\n",
       "      <th>2000-01-02</th>\n",
       "      <td>13.0</td>\n",
       "      <td>25.0</td>\n",
       "      <td>65</td>\n",
       "      <td>1013</td>\n",
       "      <td>0.0</td>\n",
       "    </tr>\n",
       "    <tr>\n",
       "      <th>2000-01-03</th>\n",
       "      <td>12.0</td>\n",
       "      <td>24.2</td>\n",
       "      <td>68</td>\n",
       "      <td>1011</td>\n",
       "      <td>0.0</td>\n",
       "    </tr>\n",
       "    <tr>\n",
       "      <th>2000-01-04</th>\n",
       "      <td>11.0</td>\n",
       "      <td>24.0</td>\n",
       "      <td>68</td>\n",
       "      <td>1012</td>\n",
       "      <td>0.0</td>\n",
       "    </tr>\n",
       "    <tr>\n",
       "      <th>2000-01-05</th>\n",
       "      <td>11.0</td>\n",
       "      <td>24.0</td>\n",
       "      <td>68</td>\n",
       "      <td>1013</td>\n",
       "      <td>0.0</td>\n",
       "    </tr>\n",
       "    <tr>\n",
       "      <th>...</th>\n",
       "      <td>...</td>\n",
       "      <td>...</td>\n",
       "      <td>...</td>\n",
       "      <td>...</td>\n",
       "      <td>...</td>\n",
       "    </tr>\n",
       "    <tr>\n",
       "      <th>2024-09-15</th>\n",
       "      <td>26.0</td>\n",
       "      <td>27.0</td>\n",
       "      <td>94</td>\n",
       "      <td>992</td>\n",
       "      <td>134.5</td>\n",
       "    </tr>\n",
       "    <tr>\n",
       "      <th>2024-09-16</th>\n",
       "      <td>26.0</td>\n",
       "      <td>29.0</td>\n",
       "      <td>91</td>\n",
       "      <td>999</td>\n",
       "      <td>92.0</td>\n",
       "    </tr>\n",
       "    <tr>\n",
       "      <th>2024-09-18</th>\n",
       "      <td>26.0</td>\n",
       "      <td>34.0</td>\n",
       "      <td>74</td>\n",
       "      <td>1004</td>\n",
       "      <td>0.0</td>\n",
       "    </tr>\n",
       "    <tr>\n",
       "      <th>2024-09-19</th>\n",
       "      <td>28.0</td>\n",
       "      <td>35.0</td>\n",
       "      <td>76</td>\n",
       "      <td>1003</td>\n",
       "      <td>19.7</td>\n",
       "    </tr>\n",
       "    <tr>\n",
       "      <th>2024-09-20</th>\n",
       "      <td>30.0</td>\n",
       "      <td>36.0</td>\n",
       "      <td>73</td>\n",
       "      <td>1003</td>\n",
       "      <td>0.0</td>\n",
       "    </tr>\n",
       "  </tbody>\n",
       "</table>\n",
       "<p>8732 rows × 5 columns</p>\n",
       "</div>"
      ],
      "text/plain": [
       "            Min Temp  Max Temp  Humidity  Pressure  Precipitation\n",
       "date                                                             \n",
       "2000-01-01      12.0      24.0        67      1013            0.0\n",
       "2000-01-02      13.0      25.0        65      1013            0.0\n",
       "2000-01-03      12.0      24.2        68      1011            0.0\n",
       "2000-01-04      11.0      24.0        68      1012            0.0\n",
       "2000-01-05      11.0      24.0        68      1013            0.0\n",
       "...              ...       ...       ...       ...            ...\n",
       "2024-09-15      26.0      27.0        94       992          134.5\n",
       "2024-09-16      26.0      29.0        91       999           92.0\n",
       "2024-09-18      26.0      34.0        74      1004            0.0\n",
       "2024-09-19      28.0      35.0        76      1003           19.7\n",
       "2024-09-20      30.0      36.0        73      1003            0.0\n",
       "\n",
       "[8732 rows x 5 columns]"
      ]
     },
     "execution_count": 4,
     "metadata": {},
     "output_type": "execute_result"
    }
   ],
   "source": [
    "# train_data , test_data"
   ]
  },
  {
   "cell_type": "code",
   "execution_count": 7,
   "id": "af9ec38e-d84f-4235-be87-287a8998dc2b",
   "metadata": {},
   "outputs": [
    {
     "name": "stdout",
     "output_type": "stream",
     "text": [
      "X_train shape: (6806, 90, 5)\n",
      "y_train shape: (6806, 90, 5)\n"
     ]
    }
   ],
   "source": [
    "# Create sequences\n",
    "def create_sequences(data, sequence_length, prediction_length):\n",
    "    sequences = []\n",
    "    labels = []\n",
    "    for i in range(len(data) - sequence_length - prediction_length + 1):\n",
    "        seq = data.iloc[i:i + sequence_length].values\n",
    "        label = data.iloc[i + sequence_length: i + sequence_length + prediction_length].values\n",
    "        sequences.append(seq)\n",
    "        labels.append(label)\n",
    "    return np.array(sequences), np.array(labels)\n",
    "\n",
    "# Define sequence and prediction lengths\n",
    "sequence_length = 90  # Input sequence (e.g., past 90 days)\n",
    "prediction_length = 90  # Predict the next 90 days\n",
    "\n",
    "# Create sequences for training and testing\n",
    "X_train, y_train = create_sequences(train_data, sequence_length, prediction_length)\n",
    "X_test, y_test = create_sequences(test_data, sequence_length, prediction_length)\n",
    "\n",
    "# Ensure the data type is float32\n",
    "X_train = X_train.astype(np.float32)\n",
    "y_train = y_train.astype(np.float32)\n",
    "X_test = X_test.astype(np.float32)\n",
    "y_test = y_test.astype(np.float32)\n",
    "\n",
    "# Check the shape of the generated sequences and labels\n",
    "print(\"X_train shape:\", X_train.shape)  # Should be (samples, sequence_length, num_features)\n",
    "print(\"y_train shape:\", y_train.shape)  # Should be (samples, prediction_length, num_features)\n"
   ]
  },
  {
   "cell_type": "code",
   "execution_count": 8,
   "id": "07cfb5c7-8a2d-4b71-b5d8-0e2b5a85716e",
   "metadata": {},
   "outputs": [
    {
     "name": "stderr",
     "output_type": "stream",
     "text": [
      "2024-09-26 11:41:17.757073: I tensorflow/core/util/port.cc:153] oneDNN custom operations are on. You may see slightly different numerical results due to floating-point round-off errors from different computation orders. To turn them off, set the environment variable `TF_ENABLE_ONEDNN_OPTS=0`.\n",
      "2024-09-26 11:41:17.784277: I external/local_xla/xla/tsl/cuda/cudart_stub.cc:32] Could not find cuda drivers on your machine, GPU will not be used.\n",
      "2024-09-26 11:41:17.790587: I external/local_xla/xla/tsl/cuda/cudart_stub.cc:32] Could not find cuda drivers on your machine, GPU will not be used.\n",
      "2024-09-26 11:41:17.802970: E external/local_xla/xla/stream_executor/cuda/cuda_fft.cc:485] Unable to register cuFFT factory: Attempting to register factory for plugin cuFFT when one has already been registered\n",
      "2024-09-26 11:41:17.821795: E external/local_xla/xla/stream_executor/cuda/cuda_dnn.cc:8454] Unable to register cuDNN factory: Attempting to register factory for plugin cuDNN when one has already been registered\n",
      "2024-09-26 11:41:17.827137: E external/local_xla/xla/stream_executor/cuda/cuda_blas.cc:1452] Unable to register cuBLAS factory: Attempting to register factory for plugin cuBLAS when one has already been registered\n",
      "2024-09-26 11:41:17.842046: I tensorflow/core/platform/cpu_feature_guard.cc:210] This TensorFlow binary is optimized to use available CPU instructions in performance-critical operations.\n",
      "To enable the following instructions: AVX2 AVX512F AVX512_VNNI AVX512_BF16 AVX512_FP16 AVX_VNNI AMX_TILE AMX_INT8 AMX_BF16 FMA, in other operations, rebuild TensorFlow with the appropriate compiler flags.\n",
      "2024-09-26 11:41:19.136231: W tensorflow/compiler/tf2tensorrt/utils/py_utils.cc:38] TF-TRT Warning: Could not find TensorRT\n"
     ]
    }
   ],
   "source": [
    "import tensorflow as tf\n",
    "from tensorflow.keras.models import Sequential\n",
    "from tensorflow.keras.layers import LSTM, Dense, Dropout, Input, Reshape\n",
    "from tensorflow.keras.callbacks import EarlyStopping, ModelCheckpoint\n",
    "from tensorflow.keras.optimizers import Adam"
   ]
  },
  {
   "cell_type": "code",
   "execution_count": 18,
   "id": "ac0a8b85-8f43-40c3-97db-2aa022d64dfd",
   "metadata": {},
   "outputs": [
    {
     "data": {
      "text/html": [
       "<pre style=\"white-space:pre;overflow-x:auto;line-height:normal;font-family:Menlo,'DejaVu Sans Mono',consolas,'Courier New',monospace\"><span style=\"font-weight: bold\">Model: \"sequential_3\"</span>\n",
       "</pre>\n"
      ],
      "text/plain": [
       "\u001b[1mModel: \"sequential_3\"\u001b[0m\n"
      ]
     },
     "metadata": {},
     "output_type": "display_data"
    },
    {
     "data": {
      "text/html": [
       "<pre style=\"white-space:pre;overflow-x:auto;line-height:normal;font-family:Menlo,'DejaVu Sans Mono',consolas,'Courier New',monospace\">┏━━━━━━━━━━━━━━━━━━━━━━━━━━━━━━━━━┳━━━━━━━━━━━━━━━━━━━━━━━━┳━━━━━━━━━━━━━━━┓\n",
       "┃<span style=\"font-weight: bold\"> Layer (type)                    </span>┃<span style=\"font-weight: bold\"> Output Shape           </span>┃<span style=\"font-weight: bold\">       Param # </span>┃\n",
       "┡━━━━━━━━━━━━━━━━━━━━━━━━━━━━━━━━━╇━━━━━━━━━━━━━━━━━━━━━━━━╇━━━━━━━━━━━━━━━┩\n",
       "│ lstm_7 (<span style=\"color: #0087ff; text-decoration-color: #0087ff\">LSTM</span>)                   │ (<span style=\"color: #00d7ff; text-decoration-color: #00d7ff\">None</span>, <span style=\"color: #00af00; text-decoration-color: #00af00\">90</span>, <span style=\"color: #00af00; text-decoration-color: #00af00\">400</span>)        │       <span style=\"color: #00af00; text-decoration-color: #00af00\">649,600</span> │\n",
       "├─────────────────────────────────┼────────────────────────┼───────────────┤\n",
       "│ dropout_7 (<span style=\"color: #0087ff; text-decoration-color: #0087ff\">Dropout</span>)             │ (<span style=\"color: #00d7ff; text-decoration-color: #00d7ff\">None</span>, <span style=\"color: #00af00; text-decoration-color: #00af00\">90</span>, <span style=\"color: #00af00; text-decoration-color: #00af00\">400</span>)        │             <span style=\"color: #00af00; text-decoration-color: #00af00\">0</span> │\n",
       "├─────────────────────────────────┼────────────────────────┼───────────────┤\n",
       "│ lstm_8 (<span style=\"color: #0087ff; text-decoration-color: #0087ff\">LSTM</span>)                   │ (<span style=\"color: #00d7ff; text-decoration-color: #00d7ff\">None</span>, <span style=\"color: #00af00; text-decoration-color: #00af00\">100</span>)            │       <span style=\"color: #00af00; text-decoration-color: #00af00\">200,400</span> │\n",
       "├─────────────────────────────────┼────────────────────────┼───────────────┤\n",
       "│ dropout_8 (<span style=\"color: #0087ff; text-decoration-color: #0087ff\">Dropout</span>)             │ (<span style=\"color: #00d7ff; text-decoration-color: #00d7ff\">None</span>, <span style=\"color: #00af00; text-decoration-color: #00af00\">100</span>)            │             <span style=\"color: #00af00; text-decoration-color: #00af00\">0</span> │\n",
       "├─────────────────────────────────┼────────────────────────┼───────────────┤\n",
       "│ dense_3 (<span style=\"color: #0087ff; text-decoration-color: #0087ff\">Dense</span>)                 │ (<span style=\"color: #00d7ff; text-decoration-color: #00d7ff\">None</span>, <span style=\"color: #00af00; text-decoration-color: #00af00\">450</span>)            │        <span style=\"color: #00af00; text-decoration-color: #00af00\">45,450</span> │\n",
       "├─────────────────────────────────┼────────────────────────┼───────────────┤\n",
       "│ reshape_3 (<span style=\"color: #0087ff; text-decoration-color: #0087ff\">Reshape</span>)             │ (<span style=\"color: #00d7ff; text-decoration-color: #00d7ff\">None</span>, <span style=\"color: #00af00; text-decoration-color: #00af00\">90</span>, <span style=\"color: #00af00; text-decoration-color: #00af00\">5</span>)          │             <span style=\"color: #00af00; text-decoration-color: #00af00\">0</span> │\n",
       "└─────────────────────────────────┴────────────────────────┴───────────────┘\n",
       "</pre>\n"
      ],
      "text/plain": [
       "┏━━━━━━━━━━━━━━━━━━━━━━━━━━━━━━━━━┳━━━━━━━━━━━━━━━━━━━━━━━━┳━━━━━━━━━━━━━━━┓\n",
       "┃\u001b[1m \u001b[0m\u001b[1mLayer (type)                   \u001b[0m\u001b[1m \u001b[0m┃\u001b[1m \u001b[0m\u001b[1mOutput Shape          \u001b[0m\u001b[1m \u001b[0m┃\u001b[1m \u001b[0m\u001b[1m      Param #\u001b[0m\u001b[1m \u001b[0m┃\n",
       "┡━━━━━━━━━━━━━━━━━━━━━━━━━━━━━━━━━╇━━━━━━━━━━━━━━━━━━━━━━━━╇━━━━━━━━━━━━━━━┩\n",
       "│ lstm_7 (\u001b[38;5;33mLSTM\u001b[0m)                   │ (\u001b[38;5;45mNone\u001b[0m, \u001b[38;5;34m90\u001b[0m, \u001b[38;5;34m400\u001b[0m)        │       \u001b[38;5;34m649,600\u001b[0m │\n",
       "├─────────────────────────────────┼────────────────────────┼───────────────┤\n",
       "│ dropout_7 (\u001b[38;5;33mDropout\u001b[0m)             │ (\u001b[38;5;45mNone\u001b[0m, \u001b[38;5;34m90\u001b[0m, \u001b[38;5;34m400\u001b[0m)        │             \u001b[38;5;34m0\u001b[0m │\n",
       "├─────────────────────────────────┼────────────────────────┼───────────────┤\n",
       "│ lstm_8 (\u001b[38;5;33mLSTM\u001b[0m)                   │ (\u001b[38;5;45mNone\u001b[0m, \u001b[38;5;34m100\u001b[0m)            │       \u001b[38;5;34m200,400\u001b[0m │\n",
       "├─────────────────────────────────┼────────────────────────┼───────────────┤\n",
       "│ dropout_8 (\u001b[38;5;33mDropout\u001b[0m)             │ (\u001b[38;5;45mNone\u001b[0m, \u001b[38;5;34m100\u001b[0m)            │             \u001b[38;5;34m0\u001b[0m │\n",
       "├─────────────────────────────────┼────────────────────────┼───────────────┤\n",
       "│ dense_3 (\u001b[38;5;33mDense\u001b[0m)                 │ (\u001b[38;5;45mNone\u001b[0m, \u001b[38;5;34m450\u001b[0m)            │        \u001b[38;5;34m45,450\u001b[0m │\n",
       "├─────────────────────────────────┼────────────────────────┼───────────────┤\n",
       "│ reshape_3 (\u001b[38;5;33mReshape\u001b[0m)             │ (\u001b[38;5;45mNone\u001b[0m, \u001b[38;5;34m90\u001b[0m, \u001b[38;5;34m5\u001b[0m)          │             \u001b[38;5;34m0\u001b[0m │\n",
       "└─────────────────────────────────┴────────────────────────┴───────────────┘\n"
      ]
     },
     "metadata": {},
     "output_type": "display_data"
    },
    {
     "data": {
      "text/html": [
       "<pre style=\"white-space:pre;overflow-x:auto;line-height:normal;font-family:Menlo,'DejaVu Sans Mono',consolas,'Courier New',monospace\"><span style=\"font-weight: bold\"> Total params: </span><span style=\"color: #00af00; text-decoration-color: #00af00\">895,450</span> (3.42 MB)\n",
       "</pre>\n"
      ],
      "text/plain": [
       "\u001b[1m Total params: \u001b[0m\u001b[38;5;34m895,450\u001b[0m (3.42 MB)\n"
      ]
     },
     "metadata": {},
     "output_type": "display_data"
    },
    {
     "data": {
      "text/html": [
       "<pre style=\"white-space:pre;overflow-x:auto;line-height:normal;font-family:Menlo,'DejaVu Sans Mono',consolas,'Courier New',monospace\"><span style=\"font-weight: bold\"> Trainable params: </span><span style=\"color: #00af00; text-decoration-color: #00af00\">895,450</span> (3.42 MB)\n",
       "</pre>\n"
      ],
      "text/plain": [
       "\u001b[1m Trainable params: \u001b[0m\u001b[38;5;34m895,450\u001b[0m (3.42 MB)\n"
      ]
     },
     "metadata": {},
     "output_type": "display_data"
    },
    {
     "data": {
      "text/html": [
       "<pre style=\"white-space:pre;overflow-x:auto;line-height:normal;font-family:Menlo,'DejaVu Sans Mono',consolas,'Courier New',monospace\"><span style=\"font-weight: bold\"> Non-trainable params: </span><span style=\"color: #00af00; text-decoration-color: #00af00\">0</span> (0.00 B)\n",
       "</pre>\n"
      ],
      "text/plain": [
       "\u001b[1m Non-trainable params: \u001b[0m\u001b[38;5;34m0\u001b[0m (0.00 B)\n"
      ]
     },
     "metadata": {},
     "output_type": "display_data"
    }
   ],
   "source": [
    "# Define the LSTM model\n",
    "model = Sequential()\n",
    "model.add(Input(shape=(X_train.shape[1], X_train.shape[2])))  # Input layer\n",
    "model.add(LSTM(400, return_sequences=True))  # LSTM with return_sequences=True\n",
    "model.add(Dropout(0.1))\n",
    "\n",
    "model.add(LSTM(100, return_sequences=False))  # Another LSTM layer\n",
    "model.add(Dropout(0.1))\n",
    "\n",
    "model.add(Dense(prediction_length * X_train.shape[2]))  # Adjust based on total outputs // output layer\n",
    "model.add(tf.keras.layers.Reshape((prediction_length, X_train.shape[2])))  # Reshape to (90, 5)\n",
    "\n",
    "# Compile the model with a lower learning rate (e.g., 0.0005)\n",
    "model.compile(optimizer=Adam(learning_rate=0.0005), loss='mean_squared_error')\n",
    "\n",
    "# Summary of the model\n",
    "model.summary()\n",
    "\n",
    "# Set up callbacks for early stopping and model checkpointing\n",
    "early_stopping = EarlyStopping(monitor='val_loss', patience=10, restore_best_weights=True)\n",
    "model_checkpoint = ModelCheckpoint('best_model.keras', save_best_only=True)"
   ]
  },
  {
   "cell_type": "code",
   "execution_count": 23,
   "id": "baa2760f-2bea-42b2-8438-ef6bb3eea10d",
   "metadata": {},
   "outputs": [
    {
     "name": "stdout",
     "output_type": "stream",
     "text": [
      "Epoch 1/50\n",
      "\u001b[1m213/213\u001b[0m \u001b[32m━━━━━━━━━━━━━━━━━━━━\u001b[0m\u001b[37m\u001b[0m \u001b[1m42s\u001b[0m 195ms/step - loss: 0.0133 - val_loss: 0.0083\n",
      "Epoch 2/50\n",
      "\u001b[1m213/213\u001b[0m \u001b[32m━━━━━━━━━━━━━━━━━━━━\u001b[0m\u001b[37m\u001b[0m \u001b[1m42s\u001b[0m 195ms/step - loss: 0.0094 - val_loss: 0.0083\n",
      "Epoch 3/50\n",
      "\u001b[1m213/213\u001b[0m \u001b[32m━━━━━━━━━━━━━━━━━━━━\u001b[0m\u001b[37m\u001b[0m \u001b[1m42s\u001b[0m 197ms/step - loss: 0.0083 - val_loss: 0.0073\n",
      "Epoch 4/50\n",
      "\u001b[1m213/213\u001b[0m \u001b[32m━━━━━━━━━━━━━━━━━━━━\u001b[0m\u001b[37m\u001b[0m \u001b[1m42s\u001b[0m 196ms/step - loss: 0.0075 - val_loss: 0.0073\n",
      "Epoch 5/50\n",
      "\u001b[1m213/213\u001b[0m \u001b[32m━━━━━━━━━━━━━━━━━━━━\u001b[0m\u001b[37m\u001b[0m \u001b[1m42s\u001b[0m 196ms/step - loss: 0.0071 - val_loss: 0.0069\n",
      "Epoch 6/50\n",
      "\u001b[1m213/213\u001b[0m \u001b[32m━━━━━━━━━━━━━━━━━━━━\u001b[0m\u001b[37m\u001b[0m \u001b[1m42s\u001b[0m 195ms/step - loss: 0.0068 - val_loss: 0.0071\n",
      "Epoch 7/50\n",
      "\u001b[1m213/213\u001b[0m \u001b[32m━━━━━━━━━━━━━━━━━━━━\u001b[0m\u001b[37m\u001b[0m \u001b[1m42s\u001b[0m 196ms/step - loss: 0.0066 - val_loss: 0.0068\n",
      "Epoch 8/50\n",
      "\u001b[1m213/213\u001b[0m \u001b[32m━━━━━━━━━━━━━━━━━━━━\u001b[0m\u001b[37m\u001b[0m \u001b[1m42s\u001b[0m 195ms/step - loss: 0.0065 - val_loss: 0.0067\n",
      "Epoch 9/50\n",
      "\u001b[1m213/213\u001b[0m \u001b[32m━━━━━━━━━━━━━━━━━━━━\u001b[0m\u001b[37m\u001b[0m \u001b[1m42s\u001b[0m 196ms/step - loss: 0.0064 - val_loss: 0.0069\n",
      "Epoch 10/50\n",
      "\u001b[1m213/213\u001b[0m \u001b[32m━━━━━━━━━━━━━━━━━━━━\u001b[0m\u001b[37m\u001b[0m \u001b[1m41s\u001b[0m 194ms/step - loss: 0.0062 - val_loss: 0.0070\n",
      "Epoch 11/50\n",
      "\u001b[1m213/213\u001b[0m \u001b[32m━━━━━━━━━━━━━━━━━━━━\u001b[0m\u001b[37m\u001b[0m \u001b[1m42s\u001b[0m 195ms/step - loss: 0.0061 - val_loss: 0.0069\n",
      "Epoch 12/50\n",
      "\u001b[1m213/213\u001b[0m \u001b[32m━━━━━━━━━━━━━━━━━━━━\u001b[0m\u001b[37m\u001b[0m \u001b[1m42s\u001b[0m 196ms/step - loss: 0.0060 - val_loss: 0.0070\n",
      "Epoch 13/50\n",
      "\u001b[1m213/213\u001b[0m \u001b[32m━━━━━━━━━━━━━━━━━━━━\u001b[0m\u001b[37m\u001b[0m \u001b[1m42s\u001b[0m 195ms/step - loss: 0.0060 - val_loss: 0.0067\n",
      "Epoch 14/50\n",
      "\u001b[1m213/213\u001b[0m \u001b[32m━━━━━━━━━━━━━━━━━━━━\u001b[0m\u001b[37m\u001b[0m \u001b[1m42s\u001b[0m 195ms/step - loss: 0.0059 - val_loss: 0.0067\n",
      "Epoch 15/50\n",
      "\u001b[1m213/213\u001b[0m \u001b[32m━━━━━━━━━━━━━━━━━━━━\u001b[0m\u001b[37m\u001b[0m \u001b[1m42s\u001b[0m 195ms/step - loss: 0.0059 - val_loss: 0.0068\n",
      "Epoch 16/50\n",
      "\u001b[1m213/213\u001b[0m \u001b[32m━━━━━━━━━━━━━━━━━━━━\u001b[0m\u001b[37m\u001b[0m \u001b[1m42s\u001b[0m 195ms/step - loss: 0.0058 - val_loss: 0.0071\n",
      "Epoch 17/50\n",
      "\u001b[1m213/213\u001b[0m \u001b[32m━━━━━━━━━━━━━━━━━━━━\u001b[0m\u001b[37m\u001b[0m \u001b[1m41s\u001b[0m 194ms/step - loss: 0.0057 - val_loss: 0.0069\n",
      "Epoch 18/50\n",
      "\u001b[1m213/213\u001b[0m \u001b[32m━━━━━━━━━━━━━━━━━━━━\u001b[0m\u001b[37m\u001b[0m \u001b[1m42s\u001b[0m 195ms/step - loss: 0.0057 - val_loss: 0.0070\n",
      "Epoch 19/50\n",
      "\u001b[1m213/213\u001b[0m \u001b[32m━━━━━━━━━━━━━━━━━━━━\u001b[0m\u001b[37m\u001b[0m \u001b[1m42s\u001b[0m 197ms/step - loss: 0.0055 - val_loss: 0.0069\n",
      "Epoch 20/50\n",
      "\u001b[1m213/213\u001b[0m \u001b[32m━━━━━━━━━━━━━━━━━━━━\u001b[0m\u001b[37m\u001b[0m \u001b[1m42s\u001b[0m 195ms/step - loss: 0.0056 - val_loss: 0.0069\n",
      "Epoch 21/50\n",
      "\u001b[1m213/213\u001b[0m \u001b[32m━━━━━━━━━━━━━━━━━━━━\u001b[0m\u001b[37m\u001b[0m \u001b[1m42s\u001b[0m 195ms/step - loss: 0.0055 - val_loss: 0.0067\n",
      "Epoch 22/50\n",
      "\u001b[1m213/213\u001b[0m \u001b[32m━━━━━━━━━━━━━━━━━━━━\u001b[0m\u001b[37m\u001b[0m \u001b[1m42s\u001b[0m 196ms/step - loss: 0.0055 - val_loss: 0.0069\n",
      "Epoch 23/50\n",
      "\u001b[1m213/213\u001b[0m \u001b[32m━━━━━━━━━━━━━━━━━━━━\u001b[0m\u001b[37m\u001b[0m \u001b[1m42s\u001b[0m 196ms/step - loss: 0.0055 - val_loss: 0.0067\n",
      "Epoch 24/50\n",
      "\u001b[1m213/213\u001b[0m \u001b[32m━━━━━━━━━━━━━━━━━━━━\u001b[0m\u001b[37m\u001b[0m \u001b[1m41s\u001b[0m 191ms/step - loss: 0.0054 - val_loss: 0.0068\n",
      "Epoch 25/50\n",
      "\u001b[1m213/213\u001b[0m \u001b[32m━━━━━━━━━━━━━━━━━━━━\u001b[0m\u001b[37m\u001b[0m \u001b[1m41s\u001b[0m 193ms/step - loss: 0.0054 - val_loss: 0.0068\n",
      "Epoch 26/50\n",
      "\u001b[1m213/213\u001b[0m \u001b[32m━━━━━━━━━━━━━━━━━━━━\u001b[0m\u001b[37m\u001b[0m \u001b[1m42s\u001b[0m 196ms/step - loss: 0.0054 - val_loss: 0.0066\n",
      "Epoch 27/50\n",
      "\u001b[1m213/213\u001b[0m \u001b[32m━━━━━━━━━━━━━━━━━━━━\u001b[0m\u001b[37m\u001b[0m \u001b[1m42s\u001b[0m 196ms/step - loss: 0.0053 - val_loss: 0.0066\n",
      "Epoch 28/50\n",
      "\u001b[1m213/213\u001b[0m \u001b[32m━━━━━━━━━━━━━━━━━━━━\u001b[0m\u001b[37m\u001b[0m \u001b[1m41s\u001b[0m 194ms/step - loss: 0.0052 - val_loss: 0.0068\n",
      "Epoch 29/50\n",
      "\u001b[1m213/213\u001b[0m \u001b[32m━━━━━━━━━━━━━━━━━━━━\u001b[0m\u001b[37m\u001b[0m \u001b[1m41s\u001b[0m 194ms/step - loss: 0.0053 - val_loss: 0.0067\n",
      "Epoch 30/50\n",
      "\u001b[1m213/213\u001b[0m \u001b[32m━━━━━━━━━━━━━━━━━━━━\u001b[0m\u001b[37m\u001b[0m \u001b[1m42s\u001b[0m 195ms/step - loss: 0.0052 - val_loss: 0.0069\n",
      "Epoch 31/50\n",
      "\u001b[1m213/213\u001b[0m \u001b[32m━━━━━━━━━━━━━━━━━━━━\u001b[0m\u001b[37m\u001b[0m \u001b[1m42s\u001b[0m 197ms/step - loss: 0.0051 - val_loss: 0.0072\n",
      "Epoch 32/50\n",
      "\u001b[1m213/213\u001b[0m \u001b[32m━━━━━━━━━━━━━━━━━━━━\u001b[0m\u001b[37m\u001b[0m \u001b[1m42s\u001b[0m 194ms/step - loss: 0.0051 - val_loss: 0.0070\n",
      "Epoch 33/50\n",
      "\u001b[1m213/213\u001b[0m \u001b[32m━━━━━━━━━━━━━━━━━━━━\u001b[0m\u001b[37m\u001b[0m \u001b[1m41s\u001b[0m 194ms/step - loss: 0.0051 - val_loss: 0.0068\n",
      "Epoch 34/50\n",
      "\u001b[1m213/213\u001b[0m \u001b[32m━━━━━━━━━━━━━━━━━━━━\u001b[0m\u001b[37m\u001b[0m \u001b[1m42s\u001b[0m 195ms/step - loss: 0.0051 - val_loss: 0.0071\n",
      "Epoch 35/50\n",
      "\u001b[1m213/213\u001b[0m \u001b[32m━━━━━━━━━━━━━━━━━━━━\u001b[0m\u001b[37m\u001b[0m \u001b[1m42s\u001b[0m 197ms/step - loss: 0.0050 - val_loss: 0.0067\n",
      "Epoch 36/50\n",
      "\u001b[1m213/213\u001b[0m \u001b[32m━━━━━━━━━━━━━━━━━━━━\u001b[0m\u001b[37m\u001b[0m \u001b[1m42s\u001b[0m 195ms/step - loss: 0.0050 - val_loss: 0.0069\n",
      "Epoch 37/50\n",
      "\u001b[1m213/213\u001b[0m \u001b[32m━━━━━━━━━━━━━━━━━━━━\u001b[0m\u001b[37m\u001b[0m \u001b[1m42s\u001b[0m 197ms/step - loss: 0.0049 - val_loss: 0.0067\n"
     ]
    }
   ],
   "source": [
    "# Train the model and save the history\n",
    "history = model.fit(X_train, y_train, epochs=50, batch_size=32, validation_data=(X_test, y_test), callbacks=[early_stopping, model_checkpoint])\n"
   ]
  },
  {
   "cell_type": "code",
   "execution_count": 24,
   "id": "db9b68ff-1e62-4dcf-9eba-a51f845223d3",
   "metadata": {},
   "outputs": [
    {
     "data": {
      "image/png": "[encoded data removed]",
      "text/plain": [
       "<Figure size 1200x600 with 1 Axes>"
      ]
     },
     "metadata": {},
     "output_type": "display_data"
    }
   ],
   "source": [
    "# Plot the training and validation loss\n",
    "plt.figure(figsize=(12, 6))  # Optional: Set figure size\n",
    "plt.plot(history.history['loss'], label='Training Loss')\n",
    "plt.plot(history.history['val_loss'], label='Validation Loss')\n",
    "plt.title('Training and Validation Loss')\n",
    "plt.xlabel('Epochs')\n",
    "plt.ylabel('Loss')\n",
    "plt.legend()\n",
    "plt.show()"
   ]
  },
  {
   "cell_type": "code",
   "execution_count": 25,
   "id": "fe607411-63e5-4247-a1f1-d561bb7c9779",
   "metadata": {},
   "outputs": [
    {
     "name": "stdout",
     "output_type": "stream",
     "text": [
      "\u001b[1m49/49\u001b[0m \u001b[32m━━━━━━━━━━━━━━━━━━━━\u001b[0m\u001b[37m\u001b[0m \u001b[1m4s\u001b[0m 72ms/step\n"
     ]
    },
    {
     "data": {
      "image/png": "[encoded data removed]",
      "text/plain": [
       "<Figure size 1000x600 with 1 Axes>"
      ]
     },
     "metadata": {},
     "output_type": "display_data"
    }
   ],
   "source": [
    "# Make predictions\n",
    "predictions = model.predict(X_test)\n",
    "\n",
    "# Reshape the predicted values to match the test data shape\n",
    "predicted_data = predictions.reshape(-1, predictions.shape[-1])\n",
    "\n",
    "# Rescale the predicted values back to their original scale\n",
    "predicted_data_rescaled = scaler.inverse_transform(predicted_data)\n",
    "\n",
    "# Reshape the test data to match the predicted shape\n",
    "y_test_reshaped = y_test.reshape(-1, y_test.shape[-1])\n",
    "\n",
    "# Rescale the test data back to its original scale for comparison\n",
    "true_data_rescaled = scaler.inverse_transform(y_test_reshaped)\n",
    "\n",
    "# Plot the actual vs predicted values for one feature (e.g., Min Temp)\n",
    "plt.figure(figsize=(10, 6))\n",
    "plt.plot(true_data_rescaled[:, 0], label='True Min Temp')\n",
    "plt.plot(predicted_data_rescaled[:, 0], label='Predicted Min Temp')\n",
    "plt.title('True vs Predicted Min Temp')\n",
    "plt.xlabel('Time')\n",
    "plt.ylabel('Min Temp')\n",
    "plt.legend()\n",
    "plt.show()\n"
   ]
  },
  {
   "cell_type": "code",
   "execution_count": 26,
   "id": "4e8bb31e-7939-492b-9f7a-c6042577b93b",
   "metadata": {},
   "outputs": [
    {
     "name": "stdout",
     "output_type": "stream",
     "text": [
      "Mean Absolute Error (MAE): 1.6993017196655273\n",
      "Root Mean Squared Error (RMSE): 2.1524221897125244\n"
     ]
    }
   ],
   "source": [
    "from sklearn.metrics import mean_absolute_error, mean_squared_error\n",
    "import numpy as np\n",
    "\n",
    "# Reshape the test and predicted data\n",
    "predicted_data = predictions.reshape(-1, predictions.shape[-1])\n",
    "true_data_reshaped = y_test.reshape(-1, y_test.shape[-1])\n",
    "\n",
    "# Rescale the predicted and true data back to their original scales\n",
    "predicted_data_rescaled = scaler.inverse_transform(predicted_data)\n",
    "true_data_rescaled = scaler.inverse_transform(true_data_reshaped)\n",
    "\n",
    "# Calculate the errors for one feature (e.g., Min Temp, which is index 0)\n",
    "mae = mean_absolute_error(true_data_rescaled[:, 0], predicted_data_rescaled[:, 0])\n",
    "rmse = np.sqrt(mean_squared_error(true_data_rescaled[:, 0], predicted_data_rescaled[:, 0]))\n",
    "\n",
    "print(f'Mean Absolute Error (MAE): {mae}')\n",
    "print(f'Root Mean Squared Error (RMSE): {rmse}')\n"
   ]
  },
  {
   "cell_type": "code",
   "execution_count": 27,
   "id": "4a638e71-4c3c-4a3e-a4a5-414f8f320d96",
   "metadata": {},
   "outputs": [
    {
     "name": "stdout",
     "output_type": "stream",
     "text": [
      "\u001b[1m1/1\u001b[0m \u001b[32m━━━━━━━━━━━━━━━━━━━━\u001b[0m\u001b[37m\u001b[0m \u001b[1m0s\u001b[0m 360ms/step\n",
      "Predicted future weather for the next 90 days: \n",
      "[[  27.315496    33.591095    80.85985    998.87134     11.462593 ]\n",
      " [  27.178762    33.56003     80.532196   998.3182      10.506701 ]\n",
      " [  27.388952    33.871075    80.89441    999.0558       9.893274 ]\n",
      " [  27.50326     33.966427    80.27461    999.0005       9.621782 ]\n",
      " [  27.278065    33.785393    80.75234    998.92676     11.26743  ]\n",
      " [  27.494877    33.641506    80.83665    999.42584     10.108122 ]\n",
      " [  27.600197    33.57571     81.17875    998.6231      11.360223 ]\n",
      " [  27.200504    33.498863    81.04639    999.09705     11.329084 ]\n",
      " [  27.190472    33.56844     81.08225    998.91046     11.227468 ]\n",
      " [  27.289404    33.47764     81.049324   999.7115      10.734219 ]\n",
      " [  27.363857    33.59583     81.03755    999.128        9.847974 ]\n",
      " [  27.439333    33.401615    80.8843     999.6686      11.101363 ]\n",
      " [  27.501602    33.60675     80.57481    999.0727      11.0034485]\n",
      " [  27.359072    33.492466    81.27237    999.436       11.428238 ]\n",
      " [  27.48092     33.43133     81.69574    999.555       10.435425 ]\n",
      " [  27.604076    33.465286    82.07437    999.23676     11.273382 ]\n",
      " [  27.571196    33.39293     82.02791    998.2279      11.324487 ]\n",
      " [  27.414059    33.278606    81.961266   998.3952      11.935201 ]\n",
      " [  27.47903     33.155426    81.82966    998.6734      12.411376 ]\n",
      " [  27.371105    33.1027      81.27427    998.95386     12.313246 ]\n",
      " [  27.21422     32.913357    81.920746   999.2943      11.270222 ]\n",
      " [  27.430199    32.982395    82.28055    999.8299      11.423551 ]\n",
      " [  27.28262     32.943085    82.731544   999.362       11.112952 ]\n",
      " [  27.494251    33.051804    82.54261    999.20685      9.616254 ]\n",
      " [  27.490883    33.03129     82.01951    999.3243      10.058866 ]\n",
      " [  27.255705    33.289955    82.48353    999.6585       8.861034 ]\n",
      " [  27.475761    33.08444     82.903435   999.2087      10.473951 ]\n",
      " [  27.508936    33.094177    83.137794   999.23395     10.968872 ]\n",
      " [  27.584084    33.128944    82.992546   999.60925     10.406884 ]\n",
      " [  27.758966    32.92945     83.16873    999.02        11.849955 ]\n",
      " [  27.653177    32.997692    82.46293    998.59265     11.596712 ]\n",
      " [  27.790756    32.836765    83.612434   998.8786      11.043395 ]\n",
      " [  27.589476    32.729668    83.87115    998.9867      13.783455 ]\n",
      " [  27.622332    32.351444    83.84187    999.35785     12.64529  ]\n",
      " [  27.775034    32.22285     84.45114    999.25903     14.617631 ]\n",
      " [  27.361876    32.405514    84.42099    999.101       14.186667 ]\n",
      " [  27.353205    32.35699     84.62219    998.9629      13.597998 ]\n",
      " [  27.555273    32.773216    83.76786    999.39355     11.823991 ]\n",
      " [  27.29143     32.75252     83.90996    999.1799      11.518696 ]\n",
      " [  27.255453    32.78626     83.7251    1000.3307      11.922932 ]\n",
      " [  27.55432     32.67914     83.81922    999.2428      11.505157 ]\n",
      " [  27.377893    32.929897    83.95155    998.9264      10.874423 ]\n",
      " [  27.54667     32.640965    83.98774    999.40625     11.885046 ]\n",
      " [  27.495497    32.771996    83.72364    999.5714       9.527175 ]\n",
      " [  27.459698    32.562763    83.544685   999.7595      10.689648 ]\n",
      " [  27.616615    32.558163    83.80233    999.9227      11.749904 ]\n",
      " [  27.51884     32.524952    84.46232    999.72034     10.114208 ]\n",
      " [  27.494623    32.81393     83.97749    999.75507     10.840807 ]\n",
      " [  27.726341    32.891552    83.67685   1000.2119      10.627901 ]\n",
      " [  27.523317    32.8906      83.51356   1000.4922      11.270107 ]\n",
      " [  27.520102    32.66621     84.46933   1000.464       10.264029 ]\n",
      " [  27.69921     32.636284    84.46271   1001.77734     10.596643 ]\n",
      " [  27.509346    32.439358    84.71711   1000.89716     10.863315 ]\n",
      " [  27.43086     32.528378    84.3115    1000.79         9.78956  ]\n",
      " [  27.3321      32.60013     83.8276    1000.5022      10.749727 ]\n",
      " [  27.35421     32.832554    84.05398   1000.7173       9.446194 ]\n",
      " [  27.48299     32.535492    84.55504   1000.574       11.040739 ]\n",
      " [  27.465197    32.79377     84.54169   1000.6986      10.692582 ]\n",
      " [  27.38196     32.562355    84.832146  1001.23206     10.884003 ]\n",
      " [  27.258923    32.448013    84.73944   1001.6514      10.121213 ]\n",
      " [  27.199564    32.4534      84.17687   1001.59625      9.788095 ]\n",
      " [  27.358248    32.52544     83.91163   1001.38324     10.906577 ]\n",
      " [  27.28727     32.343708    84.692566  1001.20264     10.960442 ]\n",
      " [  27.513966    32.68859     83.987526  1002.2448      10.227558 ]\n",
      " [  27.345789    32.5525      83.71932   1002.3247       9.895614 ]\n",
      " [  27.141994    32.85639     83.82983   1002.7052      10.309954 ]\n",
      " [  27.265373    32.62741     83.97041   1002.675        9.214519 ]\n",
      " [  27.037762    32.567772    84.569305  1002.5685      10.479614 ]\n",
      " [  27.047703    32.358555    85.0065    1002.9117       8.564525 ]\n",
      " [  26.993319    32.374504    84.55358   1004.18427     11.170747 ]\n",
      " [  26.794323    32.56387     84.228905  1003.71014      9.705661 ]\n",
      " [  26.804983    32.60424     83.7107    1003.0511       8.343963 ]\n",
      " [  26.889936    32.5809      82.98229   1003.4649       8.271896 ]\n",
      " [  27.099504    32.831806    82.928986  1003.2185       7.289342 ]\n",
      " [  27.1025      32.66873     83.301155  1003.5285       8.773351 ]\n",
      " [  26.966658    32.68692     82.78135   1004.1854       7.846899 ]\n",
      " [  26.861202    32.88786     82.51915   1004.09924      7.332211 ]\n",
      " [  26.974503    32.798374    82.29209   1004.09015      7.6586976]\n",
      " [  27.015642    32.64511     82.82703   1004.1877       9.768555 ]\n",
      " [  26.931562    32.337234    83.302765  1003.8163      11.236941 ]\n",
      " [  26.818804    32.320587    82.78673   1005.22766      9.139823 ]\n",
      " [  26.868872    32.58012     82.633995  1004.81866      7.9113617]\n",
      " [  26.475857    32.68945     82.07156   1004.4372       8.8265   ]\n",
      " [  26.528423    32.653828    81.96372   1004.92944      9.152504 ]\n",
      " [  26.636522    32.823627    81.518265  1005.16583      7.7445984]\n",
      " [  26.34486     32.84694     81.13287   1004.82324      6.891803 ]\n",
      " [  26.291023    32.772774    81.205055  1004.60406      7.7678275]\n",
      " [  26.381523    32.753693    80.771515  1004.9908       6.915938 ]\n",
      " [  26.222448    32.80719     80.76253   1005.7495       7.9490514]\n",
      " [  26.333874    32.59683     81.13871   1006.19244      6.4596887]]\n"
     ]
    }
   ],
   "source": [
    "# Use the last sequence from the test data to predict future weather\n",
    "last_sequence = X_test[-1].reshape(1, X_test.shape[1], X_train.shape[2])  # Ensure correct shape\n",
    "\n",
    "# Predict future weather (for the next 90 days, for example)\n",
    "future_prediction = model.predict(last_sequence)\n",
    "\n",
    "# Reshape the predicted data to 2D for inverse transformation (batch size is 1, so we remove it)\n",
    "future_prediction_reshaped = future_prediction.reshape(future_prediction.shape[1], future_prediction.shape[2])\n",
    "\n",
    "# Inverse transform the prediction back to the original scale\n",
    "future_weather = scaler.inverse_transform(future_prediction_reshaped)\n",
    "\n",
    "print(f\"Predicted future weather for the next 90 days: \\n{future_weather}\")\n"
   ]
  },
  {
   "cell_type": "code",
   "execution_count": null,
   "id": "119c9b11-a9d3-487b-ba74-f85f0f0c9f0b",
   "metadata": {},
   "outputs": [],
   "source": []
  },
  {
   "cell_type": "code",
   "execution_count": null,
   "id": "8a81596b-cebb-45da-87b2-371b48ff5107",
   "metadata": {},
   "outputs": [],
   "source": []
  }
 ],
 "metadata": {
  "kernelspec": {
   "display_name": "Python 3 (ipykernel)",
   "language": "python",
   "name": "python3"
  },
  "language_info": {
   "codemirror_mode": {
    "name": "ipython",
    "version": 3
   },
   "file_extension": ".py",
   "mimetype": "text/x-python",
   "name": "python",
   "nbconvert_exporter": "python",
   "pygments_lexer": "ipython3",
   "version": "3.11.5"
  }
 },
 "nbformat": 4,
 "nbformat_minor": 5
}
