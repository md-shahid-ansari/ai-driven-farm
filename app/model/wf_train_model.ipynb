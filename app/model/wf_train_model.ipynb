{
  "cells": [
    {
      "cell_type": "code",
      "execution_count": 45,
      "id": "9f0bf28e-23fb-4042-8541-23b6e831bd11",
      "metadata": {
        "scrolled": true,
        "colab": {
          "base_uri": "https://localhost:8080/"
        },
        "id": "9f0bf28e-23fb-4042-8541-23b6e831bd11",
        "outputId": "e04e052c-5d50-484c-ef4d-468ab0081489"
      },
      "outputs": [
        {
          "output_type": "stream",
          "name": "stdout",
          "text": [
            "Requirement already satisfied: numpy in /usr/local/lib/python3.11/dist-packages (2.0.2)\n",
            "Requirement already satisfied: pandas in /usr/local/lib/python3.11/dist-packages (2.2.2)\n",
            "Requirement already satisfied: scikit-learn in /usr/local/lib/python3.11/dist-packages (1.6.1)\n",
            "Requirement already satisfied: tensorflow in /usr/local/lib/python3.11/dist-packages (2.18.0)\n",
            "Requirement already satisfied: matplotlib in /usr/local/lib/python3.11/dist-packages (3.10.0)\n",
            "Requirement already satisfied: python-dateutil>=2.8.2 in /usr/local/lib/python3.11/dist-packages (from pandas) (2.9.0.post0)\n",
            "Requirement already satisfied: pytz>=2020.1 in /usr/local/lib/python3.11/dist-packages (from pandas) (2025.2)\n",
            "Requirement already satisfied: tzdata>=2022.7 in /usr/local/lib/python3.11/dist-packages (from pandas) (2025.2)\n",
            "Requirement already satisfied: scipy>=1.6.0 in /usr/local/lib/python3.11/dist-packages (from scikit-learn) (1.15.2)\n",
            "Requirement already satisfied: joblib>=1.2.0 in /usr/local/lib/python3.11/dist-packages (from scikit-learn) (1.4.2)\n",
            "Requirement already satisfied: threadpoolctl>=3.1.0 in /usr/local/lib/python3.11/dist-packages (from scikit-learn) (3.6.0)\n",
            "Requirement already satisfied: absl-py>=1.0.0 in /usr/local/lib/python3.11/dist-packages (from tensorflow) (1.4.0)\n",
            "Requirement already satisfied: astunparse>=1.6.0 in /usr/local/lib/python3.11/dist-packages (from tensorflow) (1.6.3)\n",
            "Requirement already satisfied: flatbuffers>=24.3.25 in /usr/local/lib/python3.11/dist-packages (from tensorflow) (25.2.10)\n",
            "Requirement already satisfied: gast!=0.5.0,!=0.5.1,!=0.5.2,>=0.2.1 in /usr/local/lib/python3.11/dist-packages (from tensorflow) (0.6.0)\n",
            "Requirement already satisfied: google-pasta>=0.1.1 in /usr/local/lib/python3.11/dist-packages (from tensorflow) (0.2.0)\n",
            "Requirement already satisfied: libclang>=13.0.0 in /usr/local/lib/python3.11/dist-packages (from tensorflow) (18.1.1)\n",
            "Requirement already satisfied: opt-einsum>=2.3.2 in /usr/local/lib/python3.11/dist-packages (from tensorflow) (3.4.0)\n",
            "Requirement already satisfied: packaging in /usr/local/lib/python3.11/dist-packages (from tensorflow) (24.2)\n",
            "Requirement already satisfied: protobuf!=4.21.0,!=4.21.1,!=4.21.2,!=4.21.3,!=4.21.4,!=4.21.5,<6.0.0dev,>=3.20.3 in /usr/local/lib/python3.11/dist-packages (from tensorflow) (5.29.4)\n",
            "Requirement already satisfied: requests<3,>=2.21.0 in /usr/local/lib/python3.11/dist-packages (from tensorflow) (2.32.3)\n",
            "Requirement already satisfied: setuptools in /usr/local/lib/python3.11/dist-packages (from tensorflow) (75.2.0)\n",
            "Requirement already satisfied: six>=1.12.0 in /usr/local/lib/python3.11/dist-packages (from tensorflow) (1.17.0)\n",
            "Requirement already satisfied: termcolor>=1.1.0 in /usr/local/lib/python3.11/dist-packages (from tensorflow) (3.1.0)\n",
            "Requirement already satisfied: typing-extensions>=3.6.6 in /usr/local/lib/python3.11/dist-packages (from tensorflow) (4.13.2)\n",
            "Requirement already satisfied: wrapt>=1.11.0 in /usr/local/lib/python3.11/dist-packages (from tensorflow) (1.17.2)\n",
            "Requirement already satisfied: grpcio<2.0,>=1.24.3 in /usr/local/lib/python3.11/dist-packages (from tensorflow) (1.71.0)\n",
            "Requirement already satisfied: tensorboard<2.19,>=2.18 in /usr/local/lib/python3.11/dist-packages (from tensorflow) (2.18.0)\n",
            "Requirement already satisfied: keras>=3.5.0 in /usr/local/lib/python3.11/dist-packages (from tensorflow) (3.8.0)\n",
            "Requirement already satisfied: h5py>=3.11.0 in /usr/local/lib/python3.11/dist-packages (from tensorflow) (3.13.0)\n",
            "Requirement already satisfied: ml-dtypes<0.5.0,>=0.4.0 in /usr/local/lib/python3.11/dist-packages (from tensorflow) (0.4.1)\n",
            "Requirement already satisfied: tensorflow-io-gcs-filesystem>=0.23.1 in /usr/local/lib/python3.11/dist-packages (from tensorflow) (0.37.1)\n",
            "Requirement already satisfied: contourpy>=1.0.1 in /usr/local/lib/python3.11/dist-packages (from matplotlib) (1.3.2)\n",
            "Requirement already satisfied: cycler>=0.10 in /usr/local/lib/python3.11/dist-packages (from matplotlib) (0.12.1)\n",
            "Requirement already satisfied: fonttools>=4.22.0 in /usr/local/lib/python3.11/dist-packages (from matplotlib) (4.57.0)\n",
            "Requirement already satisfied: kiwisolver>=1.3.1 in /usr/local/lib/python3.11/dist-packages (from matplotlib) (1.4.8)\n",
            "Requirement already satisfied: pillow>=8 in /usr/local/lib/python3.11/dist-packages (from matplotlib) (11.2.1)\n",
            "Requirement already satisfied: pyparsing>=2.3.1 in /usr/local/lib/python3.11/dist-packages (from matplotlib) (3.2.3)\n",
            "Requirement already satisfied: wheel<1.0,>=0.23.0 in /usr/local/lib/python3.11/dist-packages (from astunparse>=1.6.0->tensorflow) (0.45.1)\n",
            "Requirement already satisfied: rich in /usr/local/lib/python3.11/dist-packages (from keras>=3.5.0->tensorflow) (13.9.4)\n",
            "Requirement already satisfied: namex in /usr/local/lib/python3.11/dist-packages (from keras>=3.5.0->tensorflow) (0.0.9)\n",
            "Requirement already satisfied: optree in /usr/local/lib/python3.11/dist-packages (from keras>=3.5.0->tensorflow) (0.15.0)\n",
            "Requirement already satisfied: charset-normalizer<4,>=2 in /usr/local/lib/python3.11/dist-packages (from requests<3,>=2.21.0->tensorflow) (3.4.1)\n",
            "Requirement already satisfied: idna<4,>=2.5 in /usr/local/lib/python3.11/dist-packages (from requests<3,>=2.21.0->tensorflow) (3.10)\n",
            "Requirement already satisfied: urllib3<3,>=1.21.1 in /usr/local/lib/python3.11/dist-packages (from requests<3,>=2.21.0->tensorflow) (2.4.0)\n",
            "Requirement already satisfied: certifi>=2017.4.17 in /usr/local/lib/python3.11/dist-packages (from requests<3,>=2.21.0->tensorflow) (2025.4.26)\n",
            "Requirement already satisfied: markdown>=2.6.8 in /usr/local/lib/python3.11/dist-packages (from tensorboard<2.19,>=2.18->tensorflow) (3.8)\n",
            "Requirement already satisfied: tensorboard-data-server<0.8.0,>=0.7.0 in /usr/local/lib/python3.11/dist-packages (from tensorboard<2.19,>=2.18->tensorflow) (0.7.2)\n",
            "Requirement already satisfied: werkzeug>=1.0.1 in /usr/local/lib/python3.11/dist-packages (from tensorboard<2.19,>=2.18->tensorflow) (3.1.3)\n",
            "Requirement already satisfied: MarkupSafe>=2.1.1 in /usr/local/lib/python3.11/dist-packages (from werkzeug>=1.0.1->tensorboard<2.19,>=2.18->tensorflow) (3.0.2)\n",
            "Requirement already satisfied: markdown-it-py>=2.2.0 in /usr/local/lib/python3.11/dist-packages (from rich->keras>=3.5.0->tensorflow) (3.0.0)\n",
            "Requirement already satisfied: pygments<3.0.0,>=2.13.0 in /usr/local/lib/python3.11/dist-packages (from rich->keras>=3.5.0->tensorflow) (2.19.1)\n",
            "Requirement already satisfied: mdurl~=0.1 in /usr/local/lib/python3.11/dist-packages (from markdown-it-py>=2.2.0->rich->keras>=3.5.0->tensorflow) (0.1.2)\n"
          ]
        }
      ],
      "source": [
        "pip install numpy pandas scikit-learn tensorflow matplotlib"
      ]
    },
    {
      "cell_type": "code",
      "execution_count": 46,
      "id": "ae893b78-ee8f-4767-b491-1ab7a7c07f70",
      "metadata": {
        "id": "ae893b78-ee8f-4767-b491-1ab7a7c07f70"
      },
      "outputs": [],
      "source": [
        "import pandas as pd\n",
        "import numpy as np\n",
        "from sklearn.preprocessing import MinMaxScaler\n",
        "import matplotlib.pyplot as plt"
      ]
    },
    {
      "cell_type": "code",
      "execution_count": 49,
      "id": "07930513-7f36-4890-9ed2-09c65d859ba6",
      "metadata": {
        "id": "07930513-7f36-4890-9ed2-09c65d859ba6"
      },
      "outputs": [],
      "source": [
        "# Load the weather data\n",
        "data = pd.read_csv('/content/weather data cleaned.csv')\n",
        "\n",
        "# Convert the Year, Month, Day columns into a single datetime column\n",
        "data['date'] = pd.to_datetime(data[\"Date\"],dayfirst=True)\n",
        "data.set_index('date', inplace=True)\n",
        "data.drop(columns=[\"Date\"], inplace=True)\n",
        "\n",
        "\n",
        "# Select features for prediction\n",
        "features = ['Min Temp', 'Max Temp', 'Humidity', 'Precipitation']\n",
        "data = data[features]\n",
        "\n",
        "# Scale the data between 0 and 1\n",
        "scaler = MinMaxScaler()\n",
        "scaled_data = scaler.fit_transform(data)\n",
        "scaled_df = pd.DataFrame(scaled_data, columns=features, index=data.index)\n",
        "\n",
        "# Split the data into training and testing sets (80% training, 20% testing)\n",
        "train_size = int(len(scaled_df) * 0.8)\n",
        "train_data = scaled_df[:train_size]\n",
        "test_data = scaled_df[train_size:]\n"
      ]
    },
    {
      "cell_type": "code",
      "execution_count": 50,
      "id": "dfac23f8-49a0-456d-9d88-6e34213a514b",
      "metadata": {
        "scrolled": true,
        "colab": {
          "base_uri": "https://localhost:8080/"
        },
        "id": "dfac23f8-49a0-456d-9d88-6e34213a514b",
        "outputId": "c5eea9a5-98a3-4362-ab64-a85152bbedb4"
      },
      "outputs": [
        {
          "output_type": "execute_result",
          "data": {
            "text/plain": [
              "(            Min Temp  Max Temp  Humidity  Precipitation\n",
              " date                                                   \n",
              " 2000-01-01  0.382166  0.300699  0.483333       0.000000\n",
              " 2000-01-02  0.414013  0.335664  0.450000       0.000000\n",
              " 2000-01-03  0.382166  0.307692  0.500000       0.000000\n",
              " 2000-01-04  0.350318  0.300699  0.500000       0.000000\n",
              " 2000-01-05  0.350318  0.300699  0.500000       0.000000\n",
              " ...              ...       ...       ...            ...\n",
              " 2019-10-21  0.828025  0.594406  0.700000       0.002028\n",
              " 2019-10-22  0.834395  0.573427  0.700000       0.002028\n",
              " 2019-10-23  0.786624  0.566434  0.766667       0.078296\n",
              " 2019-10-24  0.700637  0.328671  0.933333       0.225152\n",
              " 2019-10-25  0.700637  0.335664  0.966667       0.129006\n",
              " \n",
              " [7000 rows x 4 columns],\n",
              "             Min Temp  Max Temp  Humidity  Precipitation\n",
              " date                                                   \n",
              " 2019-10-26  0.726115  0.384615  0.883333       0.028398\n",
              " 2019-10-27  0.719745  0.482517  0.766667       0.004057\n",
              " 2019-10-28  0.722930  0.482517  0.716667       0.000000\n",
              " 2019-10-29  0.700637  0.489510  0.716667       0.000000\n",
              " 2019-10-30  0.713376  0.510490  0.733333       0.000000\n",
              " ...              ...       ...       ...            ...\n",
              " 2024-10-04  0.822004  0.598257  0.505412       0.021737\n",
              " 2024-10-05  0.822454  0.598595  0.505412       0.021737\n",
              " 2024-10-06  0.822643  0.598900  0.505412       0.021737\n",
              " 2024-10-07  0.822443  0.598815  0.505412       0.021737\n",
              " 2024-10-08  0.822229  0.598709  0.505412       0.021737\n",
              " \n",
              " [1750 rows x 4 columns])"
            ]
          },
          "metadata": {},
          "execution_count": 50
        }
      ],
      "source": [
        "train_data , test_data"
      ]
    },
    {
      "cell_type": "code",
      "execution_count": 51,
      "id": "af9ec38e-d84f-4235-be87-287a8998dc2b",
      "metadata": {
        "colab": {
          "base_uri": "https://localhost:8080/"
        },
        "id": "af9ec38e-d84f-4235-be87-287a8998dc2b",
        "outputId": "c606b319-f1a5-48de-a364-221e49615f86"
      },
      "outputs": [
        {
          "output_type": "stream",
          "name": "stdout",
          "text": [
            "X_train shape: (6821, 90, 4)\n",
            "y_train shape: (6821, 90, 4)\n"
          ]
        }
      ],
      "source": [
        "# Create sequences\n",
        "def create_sequences(data, sequence_length, prediction_length):\n",
        "    sequences = []\n",
        "    labels = []\n",
        "    for i in range(len(data) - sequence_length - prediction_length + 1):\n",
        "        seq = data.iloc[i:i + sequence_length].values\n",
        "        label = data.iloc[i + sequence_length: i + sequence_length + prediction_length].values\n",
        "        sequences.append(seq)\n",
        "        labels.append(label)\n",
        "    return np.array(sequences), np.array(labels)\n",
        "\n",
        "# Define sequence and prediction lengths\n",
        "sequence_length = 90  # Input sequence (e.g., past 90 days)\n",
        "prediction_length = 90  # Predict the next 90 days\n",
        "\n",
        "# Create sequences for training and testing\n",
        "X_train, y_train = create_sequences(train_data, sequence_length, prediction_length)\n",
        "X_test, y_test = create_sequences(test_data, sequence_length, prediction_length)\n",
        "\n",
        "# Ensure the data type is float32\n",
        "X_train = X_train.astype(np.float32)\n",
        "y_train = y_train.astype(np.float32)\n",
        "X_test = X_test.astype(np.float32)\n",
        "y_test = y_test.astype(np.float32)\n",
        "\n",
        "# Check the shape of the generated sequences and labels\n",
        "print(\"X_train shape:\", X_train.shape)  # Should be (samples, sequence_length, num_features)\n",
        "print(\"y_train shape:\", y_train.shape)  # Should be (samples, prediction_length, num_features)\n"
      ]
    },
    {
      "cell_type": "code",
      "execution_count": 52,
      "id": "07cfb5c7-8a2d-4b71-b5d8-0e2b5a85716e",
      "metadata": {
        "id": "07cfb5c7-8a2d-4b71-b5d8-0e2b5a85716e"
      },
      "outputs": [],
      "source": [
        "import tensorflow as tf\n",
        "from tensorflow.keras.models import Sequential\n",
        "from tensorflow.keras.layers import LSTM, Dense, Dropout, Input, Reshape\n",
        "from tensorflow.keras.callbacks import EarlyStopping, ModelCheckpoint\n",
        "from tensorflow.keras.optimizers import Adam"
      ]
    },
    {
      "cell_type": "code",
      "execution_count": 53,
      "id": "ac0a8b85-8f43-40c3-97db-2aa022d64dfd",
      "metadata": {
        "colab": {
          "base_uri": "https://localhost:8080/",
          "height": 385
        },
        "id": "ac0a8b85-8f43-40c3-97db-2aa022d64dfd",
        "outputId": "04284bb2-044b-4648-a657-edbec80986f6"
      },
      "outputs": [
        {
          "output_type": "display_data",
          "data": {
            "text/plain": [
              "\u001b[1mModel: \"sequential_5\"\u001b[0m\n"
            ],
            "text/html": [
              "<pre style=\"white-space:pre;overflow-x:auto;line-height:normal;font-family:Menlo,'DejaVu Sans Mono',consolas,'Courier New',monospace\"><span style=\"font-weight: bold\">Model: \"sequential_5\"</span>\n",
              "</pre>\n"
            ]
          },
          "metadata": {}
        },
        {
          "output_type": "display_data",
          "data": {
            "text/plain": [
              "┏━━━━━━━━━━━━━━━━━━━━━━━━━━━━━━━━━┳━━━━━━━━━━━━━━━━━━━━━━━━┳━━━━━━━━━━━━━━━┓\n",
              "┃\u001b[1m \u001b[0m\u001b[1mLayer (type)                   \u001b[0m\u001b[1m \u001b[0m┃\u001b[1m \u001b[0m\u001b[1mOutput Shape          \u001b[0m\u001b[1m \u001b[0m┃\u001b[1m \u001b[0m\u001b[1m      Param #\u001b[0m\u001b[1m \u001b[0m┃\n",
              "┡━━━━━━━━━━━━━━━━━━━━━━━━━━━━━━━━━╇━━━━━━━━━━━━━━━━━━━━━━━━╇━━━━━━━━━━━━━━━┩\n",
              "│ lstm_14 (\u001b[38;5;33mLSTM\u001b[0m)                  │ (\u001b[38;5;45mNone\u001b[0m, \u001b[38;5;34m90\u001b[0m, \u001b[38;5;34m400\u001b[0m)        │       \u001b[38;5;34m648,000\u001b[0m │\n",
              "├─────────────────────────────────┼────────────────────────┼───────────────┤\n",
              "│ dropout_13 (\u001b[38;5;33mDropout\u001b[0m)            │ (\u001b[38;5;45mNone\u001b[0m, \u001b[38;5;34m90\u001b[0m, \u001b[38;5;34m400\u001b[0m)        │             \u001b[38;5;34m0\u001b[0m │\n",
              "├─────────────────────────────────┼────────────────────────┼───────────────┤\n",
              "│ lstm_15 (\u001b[38;5;33mLSTM\u001b[0m)                  │ (\u001b[38;5;45mNone\u001b[0m, \u001b[38;5;34m90\u001b[0m, \u001b[38;5;34m200\u001b[0m)        │       \u001b[38;5;34m480,800\u001b[0m │\n",
              "├─────────────────────────────────┼────────────────────────┼───────────────┤\n",
              "│ dropout_14 (\u001b[38;5;33mDropout\u001b[0m)            │ (\u001b[38;5;45mNone\u001b[0m, \u001b[38;5;34m90\u001b[0m, \u001b[38;5;34m200\u001b[0m)        │             \u001b[38;5;34m0\u001b[0m │\n",
              "├─────────────────────────────────┼────────────────────────┼───────────────┤\n",
              "│ lstm_16 (\u001b[38;5;33mLSTM\u001b[0m)                  │ (\u001b[38;5;45mNone\u001b[0m, \u001b[38;5;34m100\u001b[0m)            │       \u001b[38;5;34m120,400\u001b[0m │\n",
              "├─────────────────────────────────┼────────────────────────┼───────────────┤\n",
              "│ dropout_15 (\u001b[38;5;33mDropout\u001b[0m)            │ (\u001b[38;5;45mNone\u001b[0m, \u001b[38;5;34m100\u001b[0m)            │             \u001b[38;5;34m0\u001b[0m │\n",
              "├─────────────────────────────────┼────────────────────────┼───────────────┤\n",
              "│ dense_4 (\u001b[38;5;33mDense\u001b[0m)                 │ (\u001b[38;5;45mNone\u001b[0m, \u001b[38;5;34m360\u001b[0m)            │        \u001b[38;5;34m36,360\u001b[0m │\n",
              "├─────────────────────────────────┼────────────────────────┼───────────────┤\n",
              "│ reshape_4 (\u001b[38;5;33mReshape\u001b[0m)             │ (\u001b[38;5;45mNone\u001b[0m, \u001b[38;5;34m90\u001b[0m, \u001b[38;5;34m4\u001b[0m)          │             \u001b[38;5;34m0\u001b[0m │\n",
              "└─────────────────────────────────┴────────────────────────┴───────────────┘\n"
            ],
            "text/html": [
              "<pre style=\"white-space:pre;overflow-x:auto;line-height:normal;font-family:Menlo,'DejaVu Sans Mono',consolas,'Courier New',monospace\">┏━━━━━━━━━━━━━━━━━━━━━━━━━━━━━━━━━┳━━━━━━━━━━━━━━━━━━━━━━━━┳━━━━━━━━━━━━━━━┓\n",
              "┃<span style=\"font-weight: bold\"> Layer (type)                    </span>┃<span style=\"font-weight: bold\"> Output Shape           </span>┃<span style=\"font-weight: bold\">       Param # </span>┃\n",
              "┡━━━━━━━━━━━━━━━━━━━━━━━━━━━━━━━━━╇━━━━━━━━━━━━━━━━━━━━━━━━╇━━━━━━━━━━━━━━━┩\n",
              "│ lstm_14 (<span style=\"color: #0087ff; text-decoration-color: #0087ff\">LSTM</span>)                  │ (<span style=\"color: #00d7ff; text-decoration-color: #00d7ff\">None</span>, <span style=\"color: #00af00; text-decoration-color: #00af00\">90</span>, <span style=\"color: #00af00; text-decoration-color: #00af00\">400</span>)        │       <span style=\"color: #00af00; text-decoration-color: #00af00\">648,000</span> │\n",
              "├─────────────────────────────────┼────────────────────────┼───────────────┤\n",
              "│ dropout_13 (<span style=\"color: #0087ff; text-decoration-color: #0087ff\">Dropout</span>)            │ (<span style=\"color: #00d7ff; text-decoration-color: #00d7ff\">None</span>, <span style=\"color: #00af00; text-decoration-color: #00af00\">90</span>, <span style=\"color: #00af00; text-decoration-color: #00af00\">400</span>)        │             <span style=\"color: #00af00; text-decoration-color: #00af00\">0</span> │\n",
              "├─────────────────────────────────┼────────────────────────┼───────────────┤\n",
              "│ lstm_15 (<span style=\"color: #0087ff; text-decoration-color: #0087ff\">LSTM</span>)                  │ (<span style=\"color: #00d7ff; text-decoration-color: #00d7ff\">None</span>, <span style=\"color: #00af00; text-decoration-color: #00af00\">90</span>, <span style=\"color: #00af00; text-decoration-color: #00af00\">200</span>)        │       <span style=\"color: #00af00; text-decoration-color: #00af00\">480,800</span> │\n",
              "├─────────────────────────────────┼────────────────────────┼───────────────┤\n",
              "│ dropout_14 (<span style=\"color: #0087ff; text-decoration-color: #0087ff\">Dropout</span>)            │ (<span style=\"color: #00d7ff; text-decoration-color: #00d7ff\">None</span>, <span style=\"color: #00af00; text-decoration-color: #00af00\">90</span>, <span style=\"color: #00af00; text-decoration-color: #00af00\">200</span>)        │             <span style=\"color: #00af00; text-decoration-color: #00af00\">0</span> │\n",
              "├─────────────────────────────────┼────────────────────────┼───────────────┤\n",
              "│ lstm_16 (<span style=\"color: #0087ff; text-decoration-color: #0087ff\">LSTM</span>)                  │ (<span style=\"color: #00d7ff; text-decoration-color: #00d7ff\">None</span>, <span style=\"color: #00af00; text-decoration-color: #00af00\">100</span>)            │       <span style=\"color: #00af00; text-decoration-color: #00af00\">120,400</span> │\n",
              "├─────────────────────────────────┼────────────────────────┼───────────────┤\n",
              "│ dropout_15 (<span style=\"color: #0087ff; text-decoration-color: #0087ff\">Dropout</span>)            │ (<span style=\"color: #00d7ff; text-decoration-color: #00d7ff\">None</span>, <span style=\"color: #00af00; text-decoration-color: #00af00\">100</span>)            │             <span style=\"color: #00af00; text-decoration-color: #00af00\">0</span> │\n",
              "├─────────────────────────────────┼────────────────────────┼───────────────┤\n",
              "│ dense_4 (<span style=\"color: #0087ff; text-decoration-color: #0087ff\">Dense</span>)                 │ (<span style=\"color: #00d7ff; text-decoration-color: #00d7ff\">None</span>, <span style=\"color: #00af00; text-decoration-color: #00af00\">360</span>)            │        <span style=\"color: #00af00; text-decoration-color: #00af00\">36,360</span> │\n",
              "├─────────────────────────────────┼────────────────────────┼───────────────┤\n",
              "│ reshape_4 (<span style=\"color: #0087ff; text-decoration-color: #0087ff\">Reshape</span>)             │ (<span style=\"color: #00d7ff; text-decoration-color: #00d7ff\">None</span>, <span style=\"color: #00af00; text-decoration-color: #00af00\">90</span>, <span style=\"color: #00af00; text-decoration-color: #00af00\">4</span>)          │             <span style=\"color: #00af00; text-decoration-color: #00af00\">0</span> │\n",
              "└─────────────────────────────────┴────────────────────────┴───────────────┘\n",
              "</pre>\n"
            ]
          },
          "metadata": {}
        },
        {
          "output_type": "display_data",
          "data": {
            "text/plain": [
              "\u001b[1m Total params: \u001b[0m\u001b[38;5;34m1,285,560\u001b[0m (4.90 MB)\n"
            ],
            "text/html": [
              "<pre style=\"white-space:pre;overflow-x:auto;line-height:normal;font-family:Menlo,'DejaVu Sans Mono',consolas,'Courier New',monospace\"><span style=\"font-weight: bold\"> Total params: </span><span style=\"color: #00af00; text-decoration-color: #00af00\">1,285,560</span> (4.90 MB)\n",
              "</pre>\n"
            ]
          },
          "metadata": {}
        },
        {
          "output_type": "display_data",
          "data": {
            "text/plain": [
              "\u001b[1m Trainable params: \u001b[0m\u001b[38;5;34m1,285,560\u001b[0m (4.90 MB)\n"
            ],
            "text/html": [
              "<pre style=\"white-space:pre;overflow-x:auto;line-height:normal;font-family:Menlo,'DejaVu Sans Mono',consolas,'Courier New',monospace\"><span style=\"font-weight: bold\"> Trainable params: </span><span style=\"color: #00af00; text-decoration-color: #00af00\">1,285,560</span> (4.90 MB)\n",
              "</pre>\n"
            ]
          },
          "metadata": {}
        },
        {
          "output_type": "display_data",
          "data": {
            "text/plain": [
              "\u001b[1m Non-trainable params: \u001b[0m\u001b[38;5;34m0\u001b[0m (0.00 B)\n"
            ],
            "text/html": [
              "<pre style=\"white-space:pre;overflow-x:auto;line-height:normal;font-family:Menlo,'DejaVu Sans Mono',consolas,'Courier New',monospace\"><span style=\"font-weight: bold\"> Non-trainable params: </span><span style=\"color: #00af00; text-decoration-color: #00af00\">0</span> (0.00 B)\n",
              "</pre>\n"
            ]
          },
          "metadata": {}
        }
      ],
      "source": [
        "# Define the LSTM model\n",
        "model = Sequential()\n",
        "model.add(Input(shape=(X_train.shape[1], X_train.shape[2])))  # Input layer\n",
        "model.add(LSTM(400, return_sequences=True))  # LSTM with return_sequences=True\n",
        "model.add(Dropout(0.1))\n",
        "\n",
        "model.add(LSTM(200, return_sequences=True))  # Another LSTM layer\n",
        "model.add(Dropout(0.1))\n",
        "\n",
        "model.add(LSTM(100, return_sequences=False))  # Another LSTM layer\n",
        "model.add(Dropout(0.1))\n",
        "\n",
        "model.add(Dense(prediction_length * X_train.shape[2]))  # Adjust based on total outputs // output layer\n",
        "model.add(tf.keras.layers.Reshape((prediction_length, X_train.shape[2])))  # Reshape to (90, 5)\n",
        "\n",
        "# Compile the model with a lower learning rate (e.g., 0.0005)\n",
        "model.compile(optimizer=Adam(learning_rate=0.0001), loss='mean_squared_error')\n",
        "\n",
        "# Summary of the model\n",
        "model.summary()\n",
        "\n",
        "# Set up callbacks for early stopping and model checkpointing\n",
        "early_stopping = EarlyStopping(monitor='val_loss', patience=10, restore_best_weights=True)\n",
        "model_checkpoint = ModelCheckpoint('best_model.keras', save_best_only=True)"
      ]
    },
    {
      "cell_type": "code",
      "execution_count": 54,
      "id": "baa2760f-2bea-42b2-8438-ef6bb3eea10d",
      "metadata": {
        "colab": {
          "base_uri": "https://localhost:8080/"
        },
        "id": "baa2760f-2bea-42b2-8438-ef6bb3eea10d",
        "outputId": "cc287e7b-da06-465b-b491-d5ff6233a380"
      },
      "outputs": [
        {
          "output_type": "stream",
          "name": "stdout",
          "text": [
            "Epoch 1/50\n",
            "\u001b[1m214/214\u001b[0m \u001b[32m━━━━━━━━━━━━━━━━━━━━\u001b[0m\u001b[37m\u001b[0m \u001b[1m8s\u001b[0m 26ms/step - loss: 0.1780 - val_loss: 0.0214\n",
            "Epoch 2/50\n",
            "\u001b[1m214/214\u001b[0m \u001b[32m━━━━━━━━━━━━━━━━━━━━\u001b[0m\u001b[37m\u001b[0m \u001b[1m10s\u001b[0m 23ms/step - loss: 0.0317 - val_loss: 0.0185\n",
            "Epoch 3/50\n",
            "\u001b[1m214/214\u001b[0m \u001b[32m━━━━━━━━━━━━━━━━━━━━\u001b[0m\u001b[37m\u001b[0m \u001b[1m5s\u001b[0m 23ms/step - loss: 0.0239 - val_loss: 0.0143\n",
            "Epoch 4/50\n",
            "\u001b[1m214/214\u001b[0m \u001b[32m━━━━━━━━━━━━━━━━━━━━\u001b[0m\u001b[37m\u001b[0m \u001b[1m5s\u001b[0m 23ms/step - loss: 0.0183 - val_loss: 0.0130\n",
            "Epoch 5/50\n",
            "\u001b[1m214/214\u001b[0m \u001b[32m━━━━━━━━━━━━━━━━━━━━\u001b[0m\u001b[37m\u001b[0m \u001b[1m5s\u001b[0m 24ms/step - loss: 0.0157 - val_loss: 0.0124\n",
            "Epoch 6/50\n",
            "\u001b[1m214/214\u001b[0m \u001b[32m━━━━━━━━━━━━━━━━━━━━\u001b[0m\u001b[37m\u001b[0m \u001b[1m5s\u001b[0m 24ms/step - loss: 0.0135 - val_loss: 0.0105\n",
            "Epoch 7/50\n",
            "\u001b[1m214/214\u001b[0m \u001b[32m━━━━━━━━━━━━━━━━━━━━\u001b[0m\u001b[37m\u001b[0m \u001b[1m5s\u001b[0m 23ms/step - loss: 0.0120 - val_loss: 0.0104\n",
            "Epoch 8/50\n",
            "\u001b[1m214/214\u001b[0m \u001b[32m━━━━━━━━━━━━━━━━━━━━\u001b[0m\u001b[37m\u001b[0m \u001b[1m5s\u001b[0m 25ms/step - loss: 0.0110 - val_loss: 0.0097\n",
            "Epoch 9/50\n",
            "\u001b[1m214/214\u001b[0m \u001b[32m━━━━━━━━━━━━━━━━━━━━\u001b[0m\u001b[37m\u001b[0m \u001b[1m10s\u001b[0m 24ms/step - loss: 0.0103 - val_loss: 0.0092\n",
            "Epoch 10/50\n",
            "\u001b[1m214/214\u001b[0m \u001b[32m━━━━━━━━━━━━━━━━━━━━\u001b[0m\u001b[37m\u001b[0m \u001b[1m5s\u001b[0m 23ms/step - loss: 0.0099 - val_loss: 0.0095\n",
            "Epoch 11/50\n",
            "\u001b[1m214/214\u001b[0m \u001b[32m━━━━━━━━━━━━━━━━━━━━\u001b[0m\u001b[37m\u001b[0m \u001b[1m5s\u001b[0m 24ms/step - loss: 0.0095 - val_loss: 0.0090\n",
            "Epoch 12/50\n",
            "\u001b[1m214/214\u001b[0m \u001b[32m━━━━━━━━━━━━━━━━━━━━\u001b[0m\u001b[37m\u001b[0m \u001b[1m10s\u001b[0m 24ms/step - loss: 0.0092 - val_loss: 0.0090\n",
            "Epoch 13/50\n",
            "\u001b[1m214/214\u001b[0m \u001b[32m━━━━━━━━━━━━━━━━━━━━\u001b[0m\u001b[37m\u001b[0m \u001b[1m5s\u001b[0m 24ms/step - loss: 0.0090 - val_loss: 0.0089\n",
            "Epoch 14/50\n",
            "\u001b[1m214/214\u001b[0m \u001b[32m━━━━━━━━━━━━━━━━━━━━\u001b[0m\u001b[37m\u001b[0m \u001b[1m5s\u001b[0m 24ms/step - loss: 0.0087 - val_loss: 0.0093\n",
            "Epoch 15/50\n",
            "\u001b[1m214/214\u001b[0m \u001b[32m━━━━━━━━━━━━━━━━━━━━\u001b[0m\u001b[37m\u001b[0m \u001b[1m5s\u001b[0m 24ms/step - loss: 0.0085 - val_loss: 0.0088\n",
            "Epoch 16/50\n",
            "\u001b[1m214/214\u001b[0m \u001b[32m━━━━━━━━━━━━━━━━━━━━\u001b[0m\u001b[37m\u001b[0m \u001b[1m10s\u001b[0m 23ms/step - loss: 0.0083 - val_loss: 0.0090\n",
            "Epoch 17/50\n",
            "\u001b[1m214/214\u001b[0m \u001b[32m━━━━━━━━━━━━━━━━━━━━\u001b[0m\u001b[37m\u001b[0m \u001b[1m5s\u001b[0m 23ms/step - loss: 0.0082 - val_loss: 0.0090\n",
            "Epoch 18/50\n",
            "\u001b[1m214/214\u001b[0m \u001b[32m━━━━━━━━━━━━━━━━━━━━\u001b[0m\u001b[37m\u001b[0m \u001b[1m5s\u001b[0m 24ms/step - loss: 0.0080 - val_loss: 0.0084\n",
            "Epoch 19/50\n",
            "\u001b[1m214/214\u001b[0m \u001b[32m━━━━━━━━━━━━━━━━━━━━\u001b[0m\u001b[37m\u001b[0m \u001b[1m10s\u001b[0m 23ms/step - loss: 0.0080 - val_loss: 0.0087\n",
            "Epoch 20/50\n",
            "\u001b[1m214/214\u001b[0m \u001b[32m━━━━━━━━━━━━━━━━━━━━\u001b[0m\u001b[37m\u001b[0m \u001b[1m5s\u001b[0m 23ms/step - loss: 0.0079 - val_loss: 0.0085\n",
            "Epoch 21/50\n",
            "\u001b[1m214/214\u001b[0m \u001b[32m━━━━━━━━━━━━━━━━━━━━\u001b[0m\u001b[37m\u001b[0m \u001b[1m5s\u001b[0m 22ms/step - loss: 0.0077 - val_loss: 0.0089\n",
            "Epoch 22/50\n",
            "\u001b[1m214/214\u001b[0m \u001b[32m━━━━━━━━━━━━━━━━━━━━\u001b[0m\u001b[37m\u001b[0m \u001b[1m5s\u001b[0m 23ms/step - loss: 0.0076 - val_loss: 0.0086\n",
            "Epoch 23/50\n",
            "\u001b[1m214/214\u001b[0m \u001b[32m━━━━━━━━━━━━━━━━━━━━\u001b[0m\u001b[37m\u001b[0m \u001b[1m5s\u001b[0m 24ms/step - loss: 0.0076 - val_loss: 0.0085\n",
            "Epoch 24/50\n",
            "\u001b[1m214/214\u001b[0m \u001b[32m━━━━━━━━━━━━━━━━━━━━\u001b[0m\u001b[37m\u001b[0m \u001b[1m10s\u001b[0m 24ms/step - loss: 0.0075 - val_loss: 0.0085\n",
            "Epoch 25/50\n",
            "\u001b[1m214/214\u001b[0m \u001b[32m━━━━━━━━━━━━━━━━━━━━\u001b[0m\u001b[37m\u001b[0m \u001b[1m10s\u001b[0m 25ms/step - loss: 0.0075 - val_loss: 0.0086\n",
            "Epoch 26/50\n",
            "\u001b[1m214/214\u001b[0m \u001b[32m━━━━━━━━━━━━━━━━━━━━\u001b[0m\u001b[37m\u001b[0m \u001b[1m5s\u001b[0m 23ms/step - loss: 0.0073 - val_loss: 0.0085\n",
            "Epoch 27/50\n",
            "\u001b[1m214/214\u001b[0m \u001b[32m━━━━━━━━━━━━━━━━━━━━\u001b[0m\u001b[37m\u001b[0m \u001b[1m5s\u001b[0m 23ms/step - loss: 0.0072 - val_loss: 0.0085\n",
            "Epoch 28/50\n",
            "\u001b[1m214/214\u001b[0m \u001b[32m━━━━━━━━━━━━━━━━━━━━\u001b[0m\u001b[37m\u001b[0m \u001b[1m5s\u001b[0m 23ms/step - loss: 0.0072 - val_loss: 0.0084\n"
          ]
        }
      ],
      "source": [
        "# Train the model and save the history\n",
        "history = model.fit(X_train, y_train, epochs=50, batch_size=32, validation_data=(X_test, y_test), callbacks=[early_stopping, model_checkpoint])\n"
      ]
    },
    {
      "cell_type": "code",
      "execution_count": 56,
      "id": "db9b68ff-1e62-4dcf-9eba-a51f845223d3",
      "metadata": {
        "colab": {
          "base_uri": "https://localhost:8080/",
          "height": 357
        },
        "id": "db9b68ff-1e62-4dcf-9eba-a51f845223d3",
        "outputId": "d42c425f-0582-467a-db70-83229d4a0a5a"
      },
      "outputs": [
        {
          "output_type": "display_data",
          "data": {
            "text/plain": [
              "<Figure size 1200x600 with 1 Axes>"
            ],
            "image/png": "[encoded data removed]"
          },
          "metadata": {}
        }
      ],
      "source": [
        "# Plot the training and validation loss\n",
        "plt.figure(figsize=(12, 6))  # Optional: Set figure size\n",
        "plt.plot(history.history['loss'], label='Training Loss')\n",
        "plt.plot(history.history['val_loss'], label='Validation Loss')\n",
        "plt.title('Training and Validation Loss')\n",
        "plt.xlabel('Epochs')\n",
        "plt.ylabel('Loss')\n",
        "plt.legend()\n",
        "plt.show()"
      ]
    },
    {
      "cell_type": "code",
      "execution_count": 57,
      "id": "fe607411-63e5-4247-a1f1-d561bb7c9779",
      "metadata": {
        "colab": {
          "base_uri": "https://localhost:8080/",
          "height": 437
        },
        "id": "fe607411-63e5-4247-a1f1-d561bb7c9779",
        "outputId": "45abb0eb-5333-4fef-c2c1-fecf62443467"
      },
      "outputs": [
        {
          "output_type": "stream",
          "name": "stdout",
          "text": [
            "\u001b[1m50/50\u001b[0m \u001b[32m━━━━━━━━━━━━━━━━━━━━\u001b[0m\u001b[37m\u001b[0m \u001b[1m1s\u001b[0m 15ms/step\n"
          ]
        },
        {
          "output_type": "display_data",
          "data": {
            "text/plain": [
              "<Figure size 1000x600 with 1 Axes>"
            ],
            "image/png": "[encoded data removed]"
          },
          "metadata": {}
        }
      ],
      "source": [
        "# Make predictions\n",
        "predictions = model.predict(X_test)\n",
        "\n",
        "# Reshape the predicted values to match the test data shape\n",
        "predicted_data = predictions.reshape(-1, predictions.shape[-1])\n",
        "\n",
        "# Rescale the predicted values back to their original scale\n",
        "predicted_data_rescaled = scaler.inverse_transform(predicted_data)\n",
        "\n",
        "# Reshape the test data to match the predicted shape\n",
        "y_test_reshaped = y_test.reshape(-1, y_test.shape[-1])\n",
        "\n",
        "# Rescale the test data back to its original scale for comparison\n",
        "true_data_rescaled = scaler.inverse_transform(y_test_reshaped)\n",
        "\n",
        "# Plot the actual vs predicted values for one feature (e.g., Min Temp)\n",
        "plt.figure(figsize=(10, 6))\n",
        "plt.plot(true_data_rescaled[:, 0], label='True Min Temp')\n",
        "plt.plot(predicted_data_rescaled[:, 0], label='Predicted Min Temp')\n",
        "plt.title('True vs Predicted Min Temp')\n",
        "plt.xlabel('Time')\n",
        "plt.ylabel('Min Temp')\n",
        "plt.legend()\n",
        "plt.show()\n"
      ]
    },
    {
      "cell_type": "code",
      "execution_count": 58,
      "id": "4e8bb31e-7939-492b-9f7a-c6042577b93b",
      "metadata": {
        "colab": {
          "base_uri": "https://localhost:8080/"
        },
        "id": "4e8bb31e-7939-492b-9f7a-c6042577b93b",
        "outputId": "df4e6919-ae1d-4ec5-9273-b10ca621a296"
      },
      "outputs": [
        {
          "output_type": "stream",
          "name": "stdout",
          "text": [
            "Mean Absolute Error (MAE): 1.787676215171814\n",
            "Root Mean Squared Error (RMSE): 2.234849892680974\n"
          ]
        }
      ],
      "source": [
        "from sklearn.metrics import mean_absolute_error, mean_squared_error\n",
        "import numpy as np\n",
        "\n",
        "# Reshape the test and predicted data\n",
        "predicted_data = predictions.reshape(-1, predictions.shape[-1])\n",
        "true_data_reshaped = y_test.reshape(-1, y_test.shape[-1])\n",
        "\n",
        "# Rescale the predicted and true data back to their original scales\n",
        "predicted_data_rescaled = scaler.inverse_transform(predicted_data)\n",
        "true_data_rescaled = scaler.inverse_transform(true_data_reshaped)\n",
        "\n",
        "# Calculate the errors for one feature (e.g., Min Temp, which is index 0)\n",
        "mae = mean_absolute_error(true_data_rescaled[:, 0], predicted_data_rescaled[:, 0])\n",
        "rmse = np.sqrt(mean_squared_error(true_data_rescaled[:, 0], predicted_data_rescaled[:, 0]))\n",
        "\n",
        "print(f'Mean Absolute Error (MAE): {mae}')\n",
        "print(f'Root Mean Squared Error (RMSE): {rmse}')\n"
      ]
    },
    {
      "cell_type": "code",
      "execution_count": 59,
      "id": "4a638e71-4c3c-4a3e-a4a5-414f8f320d96",
      "metadata": {
        "colab": {
          "base_uri": "https://localhost:8080/"
        },
        "id": "4a638e71-4c3c-4a3e-a4a5-414f8f320d96",
        "outputId": "79b133f9-564b-4e0d-c9b6-e77e60fe1a53"
      },
      "outputs": [
        {
          "output_type": "stream",
          "name": "stdout",
          "text": [
            "\u001b[1m1/1\u001b[0m \u001b[32m━━━━━━━━━━━━━━━━━━━━\u001b[0m\u001b[37m\u001b[0m \u001b[1m0s\u001b[0m 87ms/step\n",
            "Predicted future weather for the next 90 days: \n",
            "[[27.68916   33.479473  84.72372    7.989244 ]\n",
            " [27.73474   33.507725  84.04558    9.886766 ]\n",
            " [27.593443  33.46585   84.85126   11.579662 ]\n",
            " [27.639505  33.69175   83.8724    11.234317 ]\n",
            " [27.212372  33.977715  84.093475   9.19515  ]\n",
            " [27.721643  33.378418  84.694214  10.397367 ]\n",
            " [27.482424  33.518513  83.930504  10.385225 ]\n",
            " [26.996353  33.052876  84.793076  12.205571 ]\n",
            " [27.526     33.30795   83.88862   10.92792  ]\n",
            " [27.325716  33.352596  85.0054    11.635012 ]\n",
            " [26.996088  33.33178   84.175934  11.265427 ]\n",
            " [26.88749   33.482903  84.0895    11.71505  ]\n",
            " [27.826498  33.048733  84.11639   10.40394  ]\n",
            " [27.454147  33.32221   84.904175   9.499426 ]\n",
            " [27.51635   33.355957  84.25062    8.963096 ]\n",
            " [27.41398   33.11906   85.10373   11.383503 ]\n",
            " [27.450329  32.98871   85.322395  10.421626 ]\n",
            " [27.26228   33.20804   84.59306   10.948144 ]\n",
            " [27.366495  33.25595   85.4885    10.244616 ]\n",
            " [27.362143  33.030354  85.06552   11.810672 ]\n",
            " [27.306776  32.87495   85.17426    9.306692 ]\n",
            " [27.630745  32.753952  84.619484  11.2166815]\n",
            " [27.248444  32.70285   85.61185   12.474158 ]\n",
            " [27.273203  33.02213   84.11092   11.617875 ]\n",
            " [27.832117  32.986523  85.221985   7.2224283]\n",
            " [27.237833  33.03797   85.57311   10.816224 ]\n",
            " [26.95553   33.40288   85.00357   11.340769 ]\n",
            " [27.579842  33.033863  85.279106   9.2273245]\n",
            " [27.229511  33.292885  85.31152   10.930845 ]\n",
            " [27.844942  33.005566  84.55712    9.693932 ]\n",
            " [27.385475  32.726635  84.538734  10.44297  ]\n",
            " [27.42377   32.561348  85.05727    9.638357 ]\n",
            " [27.39785   32.621246  84.83157   10.843147 ]\n",
            " [27.22707   32.473156  84.71053   10.765009 ]\n",
            " [26.659145  32.526897  85.0146    12.90954  ]\n",
            " [27.126652  33.075325  84.60493   11.563096 ]\n",
            " [27.34256   32.87136   85.463196  11.067852 ]\n",
            " [27.322283  32.48523   83.94477   11.84701  ]\n",
            " [26.749409  33.04727   84.64466    9.87803  ]\n",
            " [27.175287  32.938984  84.65417    8.818039 ]\n",
            " [27.294825  33.11995   83.985176  11.146102 ]\n",
            " [27.077497  32.727604  84.48919   10.864421 ]\n",
            " [27.381222  33.050735  83.09594    7.9005136]\n",
            " [27.417475  32.718838  84.97551    7.6203704]\n",
            " [27.515203  33.169727  84.89243   10.584735 ]\n",
            " [26.989561  32.97446   84.81361    9.701296 ]\n",
            " [26.348883  32.775433  83.65461   11.736741 ]\n",
            " [26.961536  32.95466   83.80525    9.513237 ]\n",
            " [27.465612  32.90725   83.46147    9.858305 ]\n",
            " [27.469774  32.89961   84.04885    8.266062 ]\n",
            " [27.089884  33.18045   83.59999    9.526968 ]\n",
            " [27.075308  33.219574  83.32488   10.565851 ]\n",
            " [27.386942  32.625607  83.527374  10.349221 ]\n",
            " [26.884336  33.006653  83.864815   7.8555226]\n",
            " [26.98494   33.378593  83.514725   8.793491 ]\n",
            " [27.009924  33.00592   83.575645   8.512221 ]\n",
            " [26.96756   33.131866  83.01726    9.817293 ]\n",
            " [27.409288  32.93869   83.93974   10.051207 ]\n",
            " [26.654488  32.881256  82.18864    9.827531 ]\n",
            " [26.58594   32.76126   81.94791   10.005809 ]\n",
            " [26.6973    32.68401   83.22252    8.61531  ]\n",
            " [26.823915  33.034267  83.1606     8.681511 ]\n",
            " [26.928688  32.844658  82.9338     8.9504595]\n",
            " [26.517967  33.296432  82.49815    8.361623 ]\n",
            " [26.926895  33.43094   83.13937    8.506007 ]\n",
            " [26.424095  33.242294  82.00836    8.392154 ]\n",
            " [26.341682  32.688324  82.84796    8.562266 ]\n",
            " [26.635996  32.74847   83.1738     8.389915 ]\n",
            " [26.750772  33.232983  81.55034    8.84398  ]\n",
            " [26.572033  33.11813   81.8945     7.7926154]\n",
            " [25.99159   32.896564  82.61185    8.787867 ]\n",
            " [26.100082  32.734985  82.576866   4.4038196]\n",
            " [26.509024  32.979496  81.070694   4.8814173]\n",
            " [26.298546  32.896362  81.335396   7.3603687]\n",
            " [26.162811  32.886375  81.37597    7.2649107]\n",
            " [26.238611  32.926445  81.675316   6.872121 ]\n",
            " [26.179602  32.942413  81.2784     4.65691  ]\n",
            " [25.86599   33.023106  81.182236   5.3006754]\n",
            " [25.831926  32.96704   81.52293    6.589558 ]\n",
            " [25.636135  32.703163  81.604225   6.106702 ]\n",
            " [25.971354  32.668167  81.63258    7.5624666]\n",
            " [25.533949  32.83918   81.43423    7.7650394]\n",
            " [25.651917  32.65025   80.09583    5.404735 ]\n",
            " [25.58265   32.770653  80.32267    6.3879514]\n",
            " [25.080444  32.86864   80.14658    5.5465255]\n",
            " [25.195211  32.448803  80.4087     6.1814675]\n",
            " [25.699768  32.649296  80.17917    5.0608554]\n",
            " [25.283934  32.48546   79.910515   4.101527 ]\n",
            " [25.079529  32.478638  80.92953    6.2992053]\n",
            " [25.663532  32.23606   79.56141    3.3377845]]\n"
          ]
        }
      ],
      "source": [
        "# Use the last sequence from the test data to predict future weather\n",
        "last_sequence = X_test[-1].reshape(1, X_test.shape[1], X_train.shape[2])  # Ensure correct shape\n",
        "\n",
        "# Predict future weather (for the next 90 days, for example)\n",
        "future_prediction = model.predict(last_sequence)\n",
        "\n",
        "# Reshape the predicted data to 2D for inverse transformation (batch size is 1, so we remove it)\n",
        "future_prediction_reshaped = future_prediction.reshape(future_prediction.shape[1], future_prediction.shape[2])\n",
        "\n",
        "# Inverse transform the prediction back to the original scale\n",
        "future_weather = scaler.inverse_transform(future_prediction_reshaped)\n",
        "\n",
        "print(f\"Predicted future weather for the next 90 days: \\n{future_weather}\")\n"
      ]
    },
    {
      "cell_type": "code",
      "execution_count": null,
      "id": "119c9b11-a9d3-487b-ba74-f85f0f0c9f0b",
      "metadata": {
        "id": "119c9b11-a9d3-487b-ba74-f85f0f0c9f0b"
      },
      "outputs": [],
      "source": []
    },
    {
      "cell_type": "code",
      "execution_count": null,
      "id": "8a81596b-cebb-45da-87b2-371b48ff5107",
      "metadata": {
        "id": "8a81596b-cebb-45da-87b2-371b48ff5107"
      },
      "outputs": [],
      "source": []
    }
  ],
  "metadata": {
    "kernelspec": {
      "display_name": "Python 3",
      "name": "python3"
    },
    "language_info": {
      "codemirror_mode": {
        "name": "ipython",
        "version": 3
      },
      "file_extension": ".py",
      "mimetype": "text/x-python",
      "name": "python",
      "nbconvert_exporter": "python",
      "pygments_lexer": "ipython3",
      "version": "3.11.5"
    },
    "colab": {
      "provenance": [],
      "gpuType": "T4"
    },
    "accelerator": "GPU"
  },
  "nbformat": 4,
  "nbformat_minor": 5
}